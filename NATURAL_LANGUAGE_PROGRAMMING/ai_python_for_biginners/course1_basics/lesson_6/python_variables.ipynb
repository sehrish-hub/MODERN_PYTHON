{
  "nbformat": 4,
  "nbformat_minor": 0,
  "metadata": {
    "colab": {
      "provenance": [],
      "gpuType": "T4"
    },
    "kernelspec": {
      "name": "python3",
      "display_name": "Python 3"
    },
    "language_info": {
      "name": "python"
    },
    "accelerator": "GPU"
  },
  "cells": [
    {
      "cell_type": "markdown",
      "source": [
        "# **Python Variables**"
      ],
      "metadata": {
        "id": "_YIL4aPks26p"
      }
    },
    {
      "cell_type": "markdown",
      "source": [
        "Variables:Variables are containers for storing data values.\n",
        "\n",
        "Creating Variables:Python has no command for declaring a variable.\n",
        "\n",
        "A variable is created the moment you first assign a value to it."
      ],
      "metadata": {
        "id": "bC_NjakSt-kb"
      }
    },
    {
      "cell_type": "code",
      "source": [
        "x = 5\n",
        "y = \"John\"\n",
        "print(x)\n",
        "print(y)\n"
      ],
      "metadata": {
        "colab": {
          "base_uri": "https://localhost:8080/"
        },
        "id": "88Xy7K55ucaw",
        "outputId": "e167b1bb-dc38-47a7-8cab-6397f40fd70f"
      },
      "execution_count": null,
      "outputs": [
        {
          "output_type": "stream",
          "name": "stdout",
          "text": [
            "5\n",
            "John\n"
          ]
        }
      ]
    },
    {
      "cell_type": "markdown",
      "source": [
        "Variables do not need to be declared with any particular type, and can even change type after they have been set."
      ],
      "metadata": {
        "id": "KX-63WHauult"
      }
    },
    {
      "cell_type": "code",
      "source": [
        "x = 4\n",
        "x = \"Sally\"\n",
        "print(x)\n"
      ],
      "metadata": {
        "colab": {
          "base_uri": "https://localhost:8080/"
        },
        "id": "BUBAU9_Auvu_",
        "outputId": "392971b8-9d32-4ec3-f2ef-0c1b33a4a7a2"
      },
      "execution_count": null,
      "outputs": [
        {
          "output_type": "stream",
          "name": "stdout",
          "text": [
            "Sally\n"
          ]
        }
      ]
    },
    {
      "cell_type": "markdown",
      "source": [
        "Casting: If you want to specify the data type of a variable, this can be done with casting."
      ],
      "metadata": {
        "id": "Z5fp2coVu4VS"
      }
    },
    {
      "cell_type": "code",
      "source": [
        "x = str(3)\n",
        "y = int(3)\n",
        "z = float(3)\n",
        "\n",
        "print(x)\n",
        "print(y)\n",
        "print(z)\n"
      ],
      "metadata": {
        "colab": {
          "base_uri": "https://localhost:8080/"
        },
        "id": "-6CXKHecu8bX",
        "outputId": "743cfdac-a2c5-4e77-91c4-b042442cc03f"
      },
      "execution_count": null,
      "outputs": [
        {
          "output_type": "stream",
          "name": "stdout",
          "text": [
            "3\n",
            "3\n",
            "3.0\n"
          ]
        }
      ]
    },
    {
      "cell_type": "markdown",
      "source": [
        "Get the Type:You can get the data type of a variable with the type() function."
      ],
      "metadata": {
        "id": "5RWtcsNFvGuQ"
      }
    },
    {
      "cell_type": "code",
      "source": [
        "x = 5\n",
        "y = \"John\"\n",
        "print(type(x))\n",
        "print(type(y))\n"
      ],
      "metadata": {
        "colab": {
          "base_uri": "https://localhost:8080/"
        },
        "id": "GzbBToZ7vLnl",
        "outputId": "b4e73acb-79cc-406f-b4eb-478104b6dd11"
      },
      "execution_count": null,
      "outputs": [
        {
          "output_type": "stream",
          "name": "stdout",
          "text": [
            "<class 'int'>\n",
            "<class 'str'>\n"
          ]
        }
      ]
    },
    {
      "cell_type": "markdown",
      "source": [
        "Single or Double Quotes? String variables can be declared either by using single or double quotes:"
      ],
      "metadata": {
        "id": "f_wsZA4hvXjP"
      }
    },
    {
      "cell_type": "code",
      "source": [
        "x = \"John\"\n",
        "print(x)\n",
        "#double quotes are the same as single quotes:\n",
        "x = 'John'\n",
        "print(x)"
      ],
      "metadata": {
        "colab": {
          "base_uri": "https://localhost:8080/"
        },
        "id": "obJ2YH8wvfQP",
        "outputId": "02e1c2be-0918-44c9-812a-6383ca3d4737"
      },
      "execution_count": null,
      "outputs": [
        {
          "output_type": "stream",
          "name": "stdout",
          "text": [
            "John\n",
            "John\n"
          ]
        }
      ]
    },
    {
      "cell_type": "markdown",
      "source": [
        "Case-Sensitive: Variable names are case-sensitive."
      ],
      "metadata": {
        "id": "0GFGEzVAvo5S"
      }
    },
    {
      "cell_type": "code",
      "source": [
        "# This will create two variables:\n",
        "a = 4\n",
        "A = \"Sally\"\n",
        "\n",
        "print(a)\n",
        "print(A)\n"
      ],
      "metadata": {
        "colab": {
          "base_uri": "https://localhost:8080/"
        },
        "id": "mAcuIzv4vvud",
        "outputId": "6c6e0045-0b40-4b34-c015-61d99007602a"
      },
      "execution_count": null,
      "outputs": [
        {
          "output_type": "stream",
          "name": "stdout",
          "text": [
            "4\n",
            "Sally\n"
          ]
        }
      ]
    },
    {
      "cell_type": "markdown",
      "source": [
        "Python - Variable Names  \n",
        "Legal variable names:"
      ],
      "metadata": {
        "id": "8wVdx8rtxfQa"
      }
    },
    {
      "cell_type": "code",
      "source": [
        "myvar = \"John\"\n",
        "my_var = \"John\"\n",
        "_my_var = \"John\"\n",
        "myVar = \"John\"\n",
        "MYVAR = \"John\"\n",
        "myvar2 = \"John\"\n",
        "\n",
        "\n",
        "print(myvar)\n",
        "print(my_var)\n",
        "print(_my_var)\n",
        "print(myVar)\n",
        "print(MYVAR)\n",
        "print(myvar2)\n"
      ],
      "metadata": {
        "colab": {
          "base_uri": "https://localhost:8080/"
        },
        "id": "Wmi0JZJzxve2",
        "outputId": "115d1b45-9356-4d87-a500-a8cfeebb86b9"
      },
      "execution_count": null,
      "outputs": [
        {
          "output_type": "stream",
          "name": "stdout",
          "text": [
            "John\n",
            "John\n",
            "John\n",
            "John\n",
            "John\n",
            "John\n"
          ]
        }
      ]
    },
    {
      "cell_type": "markdown",
      "source": [
        "Illegal variable names:"
      ],
      "metadata": {
        "id": "86pjr9Xwx62z"
      }
    },
    {
      "cell_type": "code",
      "source": [
        "2myvar = \"John\"\n",
        "my-var = \"John\"\n",
        "my var = \"John\"\n",
        "\n",
        "#This example will produce an error in the result\n",
        "\n",
        "Remember that variable names are case-sensitive"
      ],
      "metadata": {
        "colab": {
          "base_uri": "https://localhost:8080/",
          "height": 106
        },
        "id": "ZwPlRup6x_QK",
        "outputId": "967277eb-1fb9-4df1-f00d-db486cbeefe1"
      },
      "execution_count": null,
      "outputs": [
        {
          "output_type": "error",
          "ename": "SyntaxError",
          "evalue": "invalid decimal literal (<ipython-input-9-311933ee3c7b>, line 1)",
          "traceback": [
            "\u001b[0;36m  File \u001b[0;32m\"<ipython-input-9-311933ee3c7b>\"\u001b[0;36m, line \u001b[0;32m1\u001b[0m\n\u001b[0;31m    2myvar = \"John\"\u001b[0m\n\u001b[0m    ^\u001b[0m\n\u001b[0;31mSyntaxError\u001b[0m\u001b[0;31m:\u001b[0m invalid decimal literal\n"
          ]
        }
      ]
    },
    {
      "cell_type": "markdown",
      "source": [
        "Multi Words Variable Names: Variable names with more than one word can be difficult to read.\n",
        "\n",
        "There are several techniques you can use to make them more readable:\n"
      ],
      "metadata": {
        "id": "aMosvBdayQHQ"
      }
    },
    {
      "cell_type": "markdown",
      "source": [
        "Camel Case: Each word, except the first, starts with a capital letter:\n",
        "myVariableName = \"John\""
      ],
      "metadata": {
        "id": "g54w9I7Wyosv"
      }
    },
    {
      "cell_type": "markdown",
      "source": [
        "Pascal Case : Each word starts with a capital letter:\n",
        "\n",
        "MyVariableName = \"John\""
      ],
      "metadata": {
        "id": "bG4q07ZQy87z"
      }
    },
    {
      "cell_type": "markdown",
      "source": [
        "Snake Case:\n",
        "Each word is separated by an underscore character:\n",
        "\n",
        "my_variable_name = \"John\""
      ],
      "metadata": {
        "id": "MDfWobeGzHLL"
      }
    },
    {
      "cell_type": "markdown",
      "source": [
        "# Python Variables - Assign Multiple Values:\n",
        "Many Values to Multiple Variables:\n",
        "Python allows you to assign values to multiple variables in one line:"
      ],
      "metadata": {
        "id": "QZ1smxYizSGl"
      }
    },
    {
      "cell_type": "code",
      "source": [
        "x, y, z = \"Orange\", \"Banana\", \"Cherry\"\n",
        "\n",
        "print(x)\n",
        "print(y)\n",
        "print(z)"
      ],
      "metadata": {
        "colab": {
          "base_uri": "https://localhost:8080/"
        },
        "id": "NFShVXGqzkeq",
        "outputId": "966e83f0-bc14-427e-8e4a-3d09cd63b8c6"
      },
      "execution_count": null,
      "outputs": [
        {
          "output_type": "stream",
          "name": "stdout",
          "text": [
            "Orange\n",
            "Banana\n",
            "Cherry\n"
          ]
        }
      ]
    },
    {
      "cell_type": "markdown",
      "source": [
        "One Value to Multiple Variables:\n",
        "And you can assign the same value to multiple variables in one line:"
      ],
      "metadata": {
        "id": "l7HmxK8vzxo4"
      }
    },
    {
      "cell_type": "code",
      "source": [
        "x = y = z = \"Orange\"\n",
        "\n",
        "print(x)\n",
        "print(y)\n",
        "print(z)\n"
      ],
      "metadata": {
        "colab": {
          "base_uri": "https://localhost:8080/"
        },
        "id": "UJpqG3wGzzVw",
        "outputId": "551c62c8-5308-4a92-e2cd-74830eadc201"
      },
      "execution_count": null,
      "outputs": [
        {
          "output_type": "stream",
          "name": "stdout",
          "text": [
            "Orange\n",
            "Orange\n",
            "Orange\n"
          ]
        }
      ]
    },
    {
      "cell_type": "markdown",
      "source": [
        "Unpack a Collection: If you have a collection of values in a list, tuple etc. Python allows you to extract the values into variables. This is called unpacking."
      ],
      "metadata": {
        "id": "z5riSFxs0JlS"
      }
    },
    {
      "cell_type": "code",
      "source": [
        "# unpack a list\n",
        "fruits = [\"apple\", \"banana\", \"cherry\"]\n",
        "x, y, z = fruits\n",
        "\n",
        "print(x)\n",
        "print(y)\n",
        "print(z)"
      ],
      "metadata": {
        "colab": {
          "base_uri": "https://localhost:8080/"
        },
        "id": "XVNn4Bdx0VD5",
        "outputId": "1d7b9db7-7b5d-4ac1-8a02-8eea11f5e50a"
      },
      "execution_count": null,
      "outputs": [
        {
          "output_type": "stream",
          "name": "stdout",
          "text": [
            "apple\n",
            "banana\n",
            "cherry\n"
          ]
        }
      ]
    },
    {
      "cell_type": "markdown",
      "source": [
        "# Python - Output Variables\n",
        "\n",
        "Output Variables:\n",
        "The Python print() function is often used to output variables."
      ],
      "metadata": {
        "id": "LE8oisQT0nEk"
      }
    },
    {
      "cell_type": "code",
      "source": [
        "x = \"Python is awesome\"\n",
        "print(x)\n"
      ],
      "metadata": {
        "id": "tva4FYX500hp",
        "colab": {
          "base_uri": "https://localhost:8080/"
        },
        "outputId": "2c7485a0-b444-4242-ed3f-6d00c6195c7e"
      },
      "execution_count": null,
      "outputs": [
        {
          "output_type": "stream",
          "name": "stdout",
          "text": [
            "Python is awesome\n"
          ]
        }
      ]
    },
    {
      "cell_type": "markdown",
      "source": [
        "In the print() function, you output multiple variables, separated by a comma:"
      ],
      "metadata": {
        "id": "BPQ7hwfMK3du"
      }
    },
    {
      "cell_type": "code",
      "source": [
        "x = \"Python\"\n",
        "y = \"is\"\n",
        "z = \"awesome\"\n",
        "print(x, y, z)\n"
      ],
      "metadata": {
        "colab": {
          "base_uri": "https://localhost:8080/"
        },
        "id": "lhopHadDK5Vk",
        "outputId": "26a17c71-2811-4b0a-b2bb-0a67b6edb14f"
      },
      "execution_count": null,
      "outputs": [
        {
          "output_type": "stream",
          "name": "stdout",
          "text": [
            "Python is awesome\n"
          ]
        }
      ]
    },
    {
      "cell_type": "code",
      "source": [
        "# You can also use the + operator to output multiple variables:\n",
        "x = \"Python \"\n",
        "y = \"is \"\n",
        "z = \"awesome\"\n",
        "print(x + y + z)\n",
        "\n",
        "x = 5\n",
        "y = 10\n",
        "print(x + y"
      ],
      "metadata": {
        "colab": {
          "base_uri": "https://localhost:8080/"
        },
        "id": "EDtamW4MLL7y",
        "outputId": "04fcf686-15a5-4a24-bded-0f72b1aac091"
      },
      "execution_count": null,
      "outputs": [
        {
          "output_type": "stream",
          "name": "stdout",
          "text": [
            "Python is awesome\n"
          ]
        }
      ]
    },
    {
      "cell_type": "code",
      "source": [
        "# In the print() function, when you try to combine a string and a number with the + operator, Python will give you an error:\n",
        "x = 5\n",
        "y = \"John\"\n",
        "print(x + y)"
      ],
      "metadata": {
        "colab": {
          "base_uri": "https://localhost:8080/",
          "height": 176
        },
        "id": "z6zJQR4oMLnd",
        "outputId": "c936dc2e-168a-4bce-b81a-e69719def8a5"
      },
      "execution_count": null,
      "outputs": [
        {
          "output_type": "error",
          "ename": "TypeError",
          "evalue": "unsupported operand type(s) for +: 'int' and 'str'",
          "traceback": [
            "\u001b[0;31m---------------------------------------------------------------------------\u001b[0m",
            "\u001b[0;31mTypeError\u001b[0m                                 Traceback (most recent call last)",
            "\u001b[0;32m<ipython-input-4-94be44706b89>\u001b[0m in \u001b[0;36m<cell line: 4>\u001b[0;34m()\u001b[0m\n\u001b[1;32m      2\u001b[0m \u001b[0mx\u001b[0m \u001b[0;34m=\u001b[0m \u001b[0;36m5\u001b[0m\u001b[0;34m\u001b[0m\u001b[0;34m\u001b[0m\u001b[0m\n\u001b[1;32m      3\u001b[0m \u001b[0my\u001b[0m \u001b[0;34m=\u001b[0m \u001b[0;34m\"John\"\u001b[0m\u001b[0;34m\u001b[0m\u001b[0;34m\u001b[0m\u001b[0m\n\u001b[0;32m----> 4\u001b[0;31m \u001b[0mprint\u001b[0m\u001b[0;34m(\u001b[0m\u001b[0mx\u001b[0m \u001b[0;34m+\u001b[0m \u001b[0my\u001b[0m\u001b[0;34m)\u001b[0m\u001b[0;34m\u001b[0m\u001b[0;34m\u001b[0m\u001b[0m\n\u001b[0m",
            "\u001b[0;31mTypeError\u001b[0m: unsupported operand type(s) for +: 'int' and 'str'"
          ]
        }
      ]
    },
    {
      "cell_type": "code",
      "source": [
        "# The best way to output multiple variables in the print() function is to separate them with commas, which even support different data types:\n",
        "x = 5\n",
        "y = \"John\"\n",
        "print(x, y)\n"
      ],
      "metadata": {
        "colab": {
          "base_uri": "https://localhost:8080/"
        },
        "id": "nwb6kK2SNbnX",
        "outputId": "7ad15c3c-f6ec-4471-c7aa-5c9d19c2e0ba"
      },
      "execution_count": null,
      "outputs": [
        {
          "output_type": "stream",
          "name": "stdout",
          "text": [
            "5 John\n"
          ]
        }
      ]
    },
    {
      "cell_type": "markdown",
      "source": [
        "# **Python - Global Variables**\n",
        "\n",
        "Global Variables:\n",
        "Variables that are created outside of a function (as in all of the examples in the previous pages) are known as global variables.\n",
        "\n",
        "Global variables can be used by everyone, both inside of functions and outside."
      ],
      "metadata": {
        "id": "fvYoVKPyNrXl"
      }
    },
    {
      "cell_type": "code",
      "source": [
        "# Create a variable outside of a function, and use it inside the function\n",
        "x = \"awesome\"\n",
        "\n",
        "def myfunc():\n",
        "  print(\"Python is \" + x)\n",
        "\n",
        "myfunc()"
      ],
      "metadata": {
        "colab": {
          "base_uri": "https://localhost:8080/"
        },
        "id": "ERXcQD0yN5wo",
        "outputId": "0c895ec2-5d27-4a24-f636-84f7e204b40c"
      },
      "execution_count": null,
      "outputs": [
        {
          "output_type": "stream",
          "name": "stdout",
          "text": [
            "Python is awesome\n"
          ]
        }
      ]
    },
    {
      "cell_type": "markdown",
      "source": [
        "If you create a variable with the same name inside a function, this variable will be local, and can only be used inside the function. The global variable with the same name will remain as it was, global and with the original value."
      ],
      "metadata": {
        "id": "eYsfWEs2OnXf"
      }
    },
    {
      "cell_type": "code",
      "source": [
        "# Create a variable inside a function, with the same name as the global variable\n",
        "x = \"awesome\"\n",
        "\n",
        "def myfunc():\n",
        "  x = \"fantastic\"\n",
        "  print(\"Python is \" + x)\n",
        "\n",
        "myfunc()\n",
        "\n",
        "print(\"Python is \" + x)\n"
      ],
      "metadata": {
        "colab": {
          "base_uri": "https://localhost:8080/"
        },
        "id": "zwcMgNm9OpQs",
        "outputId": "507d66b6-605e-48f3-953b-cb976609be8d"
      },
      "execution_count": null,
      "outputs": [
        {
          "output_type": "stream",
          "name": "stdout",
          "text": [
            "Python is fantastic\n",
            "Python is awesome\n"
          ]
        }
      ]
    },
    {
      "cell_type": "markdown",
      "source": [
        "# **The global Keyword**\n",
        "Normally, when you create a variable inside a function, that variable is local, and can only be used inside that function.\n",
        "\n",
        "To create a global variable inside a function, you can use the global keyword."
      ],
      "metadata": {
        "id": "WN5mE-PDPBv7"
      }
    },
    {
      "cell_type": "code",
      "source": [
        "# If you use the global keyword, the variable belongs to the global scope:\n",
        "def myfunc():\n",
        "  global x\n",
        "  x = \"fantastic\"\n",
        "\n",
        "myfunc()\n",
        "\n",
        "print(\"Python is \" + x)"
      ],
      "metadata": {
        "colab": {
          "base_uri": "https://localhost:8080/"
        },
        "id": "LLosdb5MPUMI",
        "outputId": "8563eeba-2509-45eb-babd-c49aa4ed1ca8"
      },
      "execution_count": null,
      "outputs": [
        {
          "output_type": "stream",
          "name": "stdout",
          "text": [
            "Python is fantastic\n"
          ]
        }
      ]
    },
    {
      "cell_type": "markdown",
      "source": [
        "Also, use the global keyword if you want to change a global variable inside a function."
      ],
      "metadata": {
        "id": "JOOJVp-5QO-F"
      }
    },
    {
      "cell_type": "code",
      "source": [
        "# To change the value of a global variable inside a function, refer to the variable by using the global keyword:\n",
        "x = \"awesome\"\n",
        "\n",
        "def myfunc():\n",
        "  global x\n",
        "  x = \"fantastic\"\n",
        "\n",
        "myfunc()\n",
        "\n",
        "print(\"Python is \" + x)\n"
      ],
      "metadata": {
        "colab": {
          "base_uri": "https://localhost:8080/"
        },
        "id": "9gwVzWHfQTe2",
        "outputId": "7c931cb1-71a5-47dd-b00b-b93ed97b05fb"
      },
      "execution_count": null,
      "outputs": [
        {
          "output_type": "stream",
          "name": "stdout",
          "text": [
            "Python is fantastic\n"
          ]
        }
      ]
    }
  ]
}