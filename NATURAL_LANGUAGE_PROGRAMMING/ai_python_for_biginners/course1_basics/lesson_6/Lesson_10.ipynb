{
  "cells": [
    {
      "cell_type": "markdown",
      "id": "de660b8e",
      "metadata": {
        "id": "de660b8e"
      },
      "source": [
        "# Lesson 10: Functions - Actions on Data"
      ]
    },
    {
      "cell_type": "markdown",
      "id": "a3c720f4",
      "metadata": {
        "id": "a3c720f4"
      },
      "source": [
        "First, start by running the command below. This imports some functions, including the `print_llm_response` function you used before, from the `helper_functions` Python file."
      ]
    },
    {
      "cell_type": "markdown",
      "id": "d34927a8",
      "metadata": {
        "id": "d34927a8"
      },
      "source": [
        "### Download helper_function.py\n",
        "* pls set Secrets Variable for Gemini in Collab\n",
        "* `GEMINI_API_KEY`\n",
        "\n",
        "[Get API KEY From Google AI Studio](https://aistudio.google.com/app/apikey)"
      ]
    },
    {
      "cell_type": "code",
      "execution_count": 3,
      "id": "efc90708",
      "metadata": {
        "id": "efc90708",
        "outputId": "5d9e4e05-bc0a-4cfc-9151-e4a662d4041c",
        "colab": {
          "base_uri": "https://localhost:8080/"
        }
      },
      "outputs": [
        {
          "output_type": "stream",
          "name": "stdout",
          "text": [
            "  % Total    % Received % Xferd  Average Speed   Time    Time     Time  Current\n",
            "                                 Dload  Upload   Total   Spent    Left  Speed\n",
            "100  3944  100  3944    0     0  15185      0 --:--:-- --:--:-- --:--:-- 15227\n"
          ]
        }
      ],
      "source": [
        "### Download helper_function.py\n",
        "# * Set Secrets Variable for Gemini\n",
        "# * `GEMINI_API_KEY`\n",
        "\n",
        "!curl -o helper_functions.py https://raw.githubusercontent.com/panaversity/learn-cloud-native-modern-ai-python/main/04_natural_language_programming/02_ai_python_for_beginners/course1_basics/Lesson_9/helper_functions.py"
      ]
    },
    {
      "cell_type": "code",
      "execution_count": 4,
      "id": "e7d9dd05",
      "metadata": {
        "id": "e7d9dd05"
      },
      "outputs": [],
      "source": [
        "from helper_functions import *"
      ]
    },
    {
      "cell_type": "markdown",
      "id": "a229ce91",
      "metadata": {
        "id": "a229ce91"
      },
      "source": [
        "In previous lessons, you have used the `print()` function to display values directly to the screen and the `print_llm_response()` function to use an LLM following the instruction you provide as a string. Below, you will print `\"¯\\_(ツ)_/¯\"` and ask the LLM about the capital of France."
      ]
    },
    {
      "cell_type": "code",
      "execution_count": 5,
      "id": "a753314f",
      "metadata": {
        "id": "a753314f",
        "outputId": "ce56f306-0923-42ed-b0e3-7cfdb98e5775",
        "colab": {
          "base_uri": "https://localhost:8080/"
        }
      },
      "outputs": [
        {
          "output_type": "stream",
          "name": "stdout",
          "text": [
            "¯\\_(ツ)_/¯\n"
          ]
        }
      ],
      "source": [
        "print(\"¯\\_(ツ)_/¯\")"
      ]
    },
    {
      "cell_type": "code",
      "execution_count": 6,
      "id": "cf25d93a-1d9d-4ba8-bb54-6503acbb1930",
      "metadata": {
        "id": "cf25d93a-1d9d-4ba8-bb54-6503acbb1930",
        "outputId": "0520687b-3bf0-4f7b-a0ef-7fc7fd56e6f4",
        "colab": {
          "base_uri": "https://localhost:8080/",
          "height": 52
        }
      },
      "outputs": [
        {
          "output_type": "stream",
          "name": "stdout",
          "text": [
            "The capital of France is **Paris**. \n",
            "\n"
          ]
        }
      ],
      "source": [
        "print_llm_response(\"What is the capital of France?\")"
      ]
    },
    {
      "cell_type": "markdown",
      "id": "52ece8c0",
      "metadata": {
        "id": "52ece8c0"
      },
      "source": [
        "You have also used the `type` function, which gives you the type used in Python for a value or variable you provide. For instance, the type of 17 is `int` (for integer)."
      ]
    },
    {
      "cell_type": "code",
      "execution_count": 7,
      "id": "c81ad492",
      "metadata": {
        "id": "c81ad492",
        "outputId": "92b42777-7d9b-4d9c-c8ef-c014745c9a08",
        "colab": {
          "base_uri": "https://localhost:8080/"
        }
      },
      "outputs": [
        {
          "output_type": "execute_result",
          "data": {
            "text/plain": [
              "int"
            ]
          },
          "metadata": {},
          "execution_count": 7
        }
      ],
      "source": [
        "type(17)"
      ]
    },
    {
      "cell_type": "markdown",
      "id": "df1e3c22",
      "metadata": {
        "id": "df1e3c22"
      },
      "source": [
        "In this lesson, you will see more function examples and explore more deeply how functions work."
      ]
    },
    {
      "cell_type": "code",
      "source": [
        "type(\"Hello World!\")"
      ],
      "metadata": {
        "id": "MV7tNvQ0p0Ft",
        "outputId": "e8dd20b0-6cd3-4094-c1ca-5a26cbe412c2",
        "colab": {
          "base_uri": "https://localhost:8080/"
        }
      },
      "id": "MV7tNvQ0p0Ft",
      "execution_count": 8,
      "outputs": [
        {
          "output_type": "execute_result",
          "data": {
            "text/plain": [
              "str"
            ]
          },
          "metadata": {},
          "execution_count": 8
        }
      ]
    },
    {
      "cell_type": "markdown",
      "id": "17034de4",
      "metadata": {
        "id": "17034de4"
      },
      "source": [
        "## Functions to count, to round, and to do much more"
      ]
    },
    {
      "cell_type": "markdown",
      "id": "76aa246f",
      "metadata": {
        "id": "76aa246f"
      },
      "source": [
        "There are many functions in Python that you can use straight out of the box. For instance, the `len()` function counts the characters in a string. So when you run the code below, you will display (using `print()`) the result of counting (with `len()`) the number of characters in the string `\"Hello World!\"`."
      ]
    },
    {
      "cell_type": "code",
      "execution_count": 9,
      "id": "05f09a2e",
      "metadata": {
        "id": "05f09a2e",
        "outputId": "476a8b3b-3c4a-4af0-cf35-8fe665ab2814",
        "colab": {
          "base_uri": "https://localhost:8080/"
        }
      },
      "outputs": [
        {
          "output_type": "stream",
          "name": "stdout",
          "text": [
            "12\n"
          ]
        }
      ],
      "source": [
        "print( len(\"Hello World!\") )"
      ]
    },
    {
      "cell_type": "code",
      "source": [
        "24/7"
      ],
      "metadata": {
        "id": "OTwTni8RqQTh",
        "outputId": "ccf0fa71-5ea0-4818-dd4f-b50543a42573",
        "colab": {
          "base_uri": "https://localhost:8080/"
        }
      },
      "id": "OTwTni8RqQTh",
      "execution_count": 8,
      "outputs": [
        {
          "output_type": "execute_result",
          "data": {
            "text/plain": [
              "3.4285714285714284"
            ]
          },
          "metadata": {},
          "execution_count": 8
        }
      ]
    },
    {
      "cell_type": "markdown",
      "id": "b0987e9f",
      "metadata": {
        "id": "b0987e9f"
      },
      "source": [
        "As another example, you can use `round()` to take a floating point number and round it to the nearest integer. Below, you use `print()` to display the result of rounding (with `round()`) the number `42.17`."
      ]
    },
    {
      "cell_type": "code",
      "execution_count": 10,
      "id": "ce418e1a",
      "metadata": {
        "id": "ce418e1a",
        "outputId": "947f38c8-1f28-4f0a-f569-97a7f21481aa",
        "colab": {
          "base_uri": "https://localhost:8080/"
        }
      },
      "outputs": [
        {
          "output_type": "stream",
          "name": "stdout",
          "text": [
            "42\n"
          ]
        }
      ],
      "source": [
        "print(round(42.17))"
      ]
    },
    {
      "cell_type": "code",
      "source": [
        "print(round(24/7))"
      ],
      "metadata": {
        "id": "sPoxoabOq3t6",
        "outputId": "cafc812f-211b-49ba-92e2-679a23c1230d",
        "colab": {
          "base_uri": "https://localhost:8080/"
        }
      },
      "id": "sPoxoabOq3t6",
      "execution_count": 11,
      "outputs": [
        {
          "output_type": "stream",
          "name": "stdout",
          "text": [
            "3\n"
          ]
        }
      ]
    },
    {
      "cell_type": "code",
      "source": [
        "print(round(24/7,3))"
      ],
      "metadata": {
        "id": "xFP7zhMhrHbk",
        "outputId": "3c01e428-e9b2-4641-bfaf-9fac7877b9f4",
        "colab": {
          "base_uri": "https://localhost:8080/"
        }
      },
      "id": "xFP7zhMhrHbk",
      "execution_count": 12,
      "outputs": [
        {
          "output_type": "stream",
          "name": "stdout",
          "text": [
            "3.429\n"
          ]
        }
      ]
    },
    {
      "cell_type": "markdown",
      "id": "94a9d309",
      "metadata": {
        "id": "94a9d309"
      },
      "source": [
        "You can save the result from a function using variables in a very similar way to what you have already explored in previous lessons. Below, you save the result from `len(\"Hello World!\")` to the variable `string_length`."
      ]
    },
    {
      "cell_type": "code",
      "execution_count": 13,
      "id": "c4690998",
      "metadata": {
        "id": "c4690998",
        "outputId": "547c649c-8c7d-486e-c151-3b0dbcffbb25",
        "colab": {
          "base_uri": "https://localhost:8080/"
        }
      },
      "outputs": [
        {
          "output_type": "stream",
          "name": "stdout",
          "text": [
            "12\n",
            "<class 'int'>\n"
          ]
        }
      ],
      "source": [
        "string_length : int = len(\"Hello World!\")\n",
        "print(string_length)\n",
        "print(type(string_length))"
      ]
    },
    {
      "cell_type": "code",
      "source": [
        "string_length = round(24/7)\n",
        "print(string_length)\n",
        "print(type(string_length))"
      ],
      "metadata": {
        "id": "FBAluto_r0G5",
        "outputId": "b9cdd6dd-8e99-4a4b-cf01-a7b52c6119e0",
        "colab": {
          "base_uri": "https://localhost:8080/"
        }
      },
      "id": "FBAluto_r0G5",
      "execution_count": 14,
      "outputs": [
        {
          "output_type": "stream",
          "name": "stdout",
          "text": [
            "3\n",
            "<class 'int'>\n"
          ]
        }
      ]
    },
    {
      "cell_type": "markdown",
      "id": "783e327e",
      "metadata": {
        "id": "783e327e"
      },
      "source": [
        "There are many functions in Python, and you don't have to memorize them all. If you ever need a function to perform a specific task, you can ask the chatbot. Try it now with the suggested prompt here or try your own.\n",
        "\n",
        "<p style=\"background-color:#F5C780; padding:15px\"> 🤖 <b>Use the Chatbot</b>: How can I find the length of a string?\n",
        "</p>"
      ]
    },
    {
      "cell_type": "markdown",
      "id": "90b0fdc4-e01f-425b-af70-755ee52334f2",
      "metadata": {
        "id": "90b0fdc4-e01f-425b-af70-755ee52334f2"
      },
      "source": [
        "## Using functions in AI programs"
      ]
    },
    {
      "cell_type": "markdown",
      "id": "1b0dee8d-14f8-4078-bbc1-ed3e8aafce86",
      "metadata": {
        "id": "1b0dee8d-14f8-4078-bbc1-ed3e8aafce86"
      },
      "source": [
        "Functions can be used alongside variables in AI programs. In the previous lesson, you saw how to create custom instructions (or prompts) for an LLM using variables. In the cell below, you will use variables and the `round()` function to create a prompt that you will use for an LLM with the `get_llm_response()` function. The `get_llm_response()` function is very similar to `print_llm_response()` (which you used before); the main difference is that you get a string as a result instead of just displaying the LLM response. This way, you can store the LLM response in the variable `response`."
      ]
    },
    {
      "cell_type": "code",
      "execution_count": 15,
      "id": "03b730a6",
      "metadata": {
        "id": "03b730a6",
        "outputId": "208d538e-a935-4ccd-c1d4-1af20fed399d",
        "colab": {
          "base_uri": "https://localhost:8080/",
          "height": 69
        }
      },
      "outputs": [
        {
          "output_type": "stream",
          "name": "stdout",
          "text": [
            "Tommy holds five spuds, a humble haul,\n",
            "For supper's joy, he'll make them all. \n",
            "\n"
          ]
        }
      ],
      "source": [
        "name = \"Tommy\"\n",
        "potatoes = 4.75\n",
        "prompt = f\"\"\"Write a couplet about my friend {name} who has about {round(potatoes)} potatoes\"\"\"\n",
        "response = get_llm_response(prompt)\n",
        "print(response)"
      ]
    },
    {
      "cell_type": "markdown",
      "id": "25fc5429",
      "metadata": {
        "id": "25fc5429"
      },
      "source": [
        "## Extra practice\n",
        "\n",
        "Try the exercises below to practice the concepts from this lesson. Read the comments in each cell with the instructions for each exercise.\n",
        "\n",
        "<b>Feel free to use the chatbot if you need help.</b>"
      ]
    },
    {
      "cell_type": "code",
      "execution_count": 16,
      "id": "5c38d622",
      "metadata": {
        "id": "5c38d622",
        "outputId": "968499e8-23a8-4e30-ecb2-79ecd9e888fb",
        "colab": {
          "base_uri": "https://localhost:8080/"
        }
      },
      "outputs": [
        {
          "output_type": "stream",
          "name": "stdout",
          "text": [
            "Your lucky number is 90!\n"
          ]
        }
      ],
      "source": [
        "# Enter one of your favorite numbers. Multiply the result by 10 and save it to a variable called 'lucky_number'.\n",
        "# Print a message saying \"Your lucky number is [lucky_number]!\"\n",
        "fav_number = 9\n",
        "lucky_number = fav_number * 10\n",
        "print(f\"Your lucky number is {lucky_number}!\")"
      ]
    },
    {
      "cell_type": "code",
      "execution_count": 17,
      "id": "c3f62ddb",
      "metadata": {
        "id": "c3f62ddb",
        "outputId": "825fbd38-0d9a-4971-c44b-b6c97a06d370",
        "colab": {
          "base_uri": "https://localhost:8080/",
          "height": 72
        }
      },
      "outputs": [
        {
          "output_type": "stream",
          "name": "stdout",
          "text": [
            "As an AI language model, I don't have feelings or experiences like humans do. However, I'm here and ready to assist you with any questions or tasks you may have. How can I help you today? \n",
            "\n"
          ]
        }
      ],
      "source": [
        "# Use print_llm_response() to print a poem with the specified number of lines. Use the\n",
        "# prompt variable to save your prompt before calling print_llm_response()\n",
        "\n",
        "number_of_lines = 5\n",
        "prompt = \"how are you\"\n",
        "print_llm_response(prompt)"
      ]
    },
    {
      "source": [
        "# Use print_llm_response() to print a poem with the specified number of lines. Use the\n",
        "# prompt variable to save your prompt before calling print_llm_response()\n",
        "number_of_lines = 5  # Specify the desired number of lines\n",
        "prompt = f\"Write a poem with {number_of_lines} lines.\"  # Create the prompt\n",
        "print_llm_response(prompt)  # Call print_llm_response() with the prompt"
      ],
      "cell_type": "code",
      "metadata": {
        "id": "YxdyLdRmwoLe",
        "outputId": "4c2387d1-17b9-42aa-d590-9b07d5de3743",
        "colab": {
          "base_uri": "https://localhost:8080/",
          "height": 121
        }
      },
      "id": "YxdyLdRmwoLe",
      "execution_count": 18,
      "outputs": [
        {
          "output_type": "stream",
          "name": "stdout",
          "text": [
            "The wind whispers secrets through the trees,\n",
            "Rustling leaves dance in a gentle breeze.\n",
            "Sunlight paints the clouds in hues so bright,\n",
            "A symphony of colors, day and night.\n",
            "Nature's canvas, a breathtaking sight. \n",
            "\n"
          ]
        }
      ]
    },
    {
      "cell_type": "code",
      "execution_count": 19,
      "id": "653e6a72",
      "metadata": {
        "id": "653e6a72",
        "outputId": "b92b7efc-e9e1-4a37-bd2e-e604c5cdfc6f",
        "colab": {
          "base_uri": "https://localhost:8080/",
          "height": 121
        }
      },
      "outputs": [
        {
          "output_type": "stream",
          "name": "stdout",
          "text": [
            "The wind whispers secrets through the trees,\n",
            "Leaves dance in golden, crimson hues,\n",
            "A lone crow caws, a silent plea,\n",
            "The sun dips low, painting the sky anew,\n",
            "Autumn's embrace, a symphony of hues. \n",
            "\n"
          ]
        }
      ],
      "source": [
        "# Repeat exercise 2, this time using the function get_llm_response(), then print() to print it. This function asks\n",
        "# the LLM for a response, just like print_llm_response, but does not print it. You'll need to save the response to\n",
        "# a variable, then print it out separately.\n",
        "\n",
        "number_of_lines = 5\n",
        "prompt = f\"\"\"write a poem with {number_of_lines} lines.\"\"\"\n",
        "response = get_llm_response(prompt)\n",
        "print(response)"
      ]
    },
    {
      "cell_type": "code",
      "source": [
        "def greet():\n",
        " print(\"hello world\")"
      ],
      "metadata": {
        "id": "xYUyAvsYdrJ1"
      },
      "id": "xYUyAvsYdrJ1",
      "execution_count": 22,
      "outputs": []
    },
    {
      "cell_type": "code",
      "source": [
        "greet()"
      ],
      "metadata": {
        "id": "ZtfuevCle4JQ",
        "outputId": "729696a7-da58-43e3-c688-c216ff1df109",
        "colab": {
          "base_uri": "https://localhost:8080/"
        }
      },
      "id": "ZtfuevCle4JQ",
      "execution_count": 23,
      "outputs": [
        {
          "output_type": "stream",
          "name": "stdout",
          "text": [
            "hello world\n"
          ]
        }
      ]
    },
    {
      "cell_type": "code",
      "source": [
        "greet()"
      ],
      "metadata": {
        "id": "oYKjH7PifFyK",
        "outputId": "901f9087-ca92-45e7-b79c-d90439229049",
        "colab": {
          "base_uri": "https://localhost:8080/"
        }
      },
      "id": "oYKjH7PifFyK",
      "execution_count": 24,
      "outputs": [
        {
          "output_type": "stream",
          "name": "stdout",
          "text": [
            "hello world\n"
          ]
        }
      ]
    },
    {
      "cell_type": "code",
      "source": [
        "print(\"egg\" + \"spam\" + \"milk\" + \"bread\" + \"butter\" == \"eggspammilkbreadbutter\")\n",
        "print(\"egg \" + \"spam \" + \"milk \" + \"bread \" + \"butter \")"
      ],
      "metadata": {
        "id": "JT4WRrWCfJTi",
        "outputId": "61bbf56a-35a7-4bd0-c61c-21b38d10942e",
        "colab": {
          "base_uri": "https://localhost:8080/"
        }
      },
      "id": "JT4WRrWCfJTi",
      "execution_count": 29,
      "outputs": [
        {
          "output_type": "stream",
          "name": "stdout",
          "text": [
            "True\n",
            "egg spam milk bread butter \n"
          ]
        }
      ]
    },
    {
      "cell_type": "code",
      "source": [
        "def greet(name):\n",
        " print(\"hello \" + name)\n",
        " greet(\"world\")\n",
        " greet(\"earth\")\n",
        " print(\"hello earth\")\n",
        " greet(\"mars\")"
      ],
      "metadata": {
        "id": "ybyoQPOvgNWz"
      },
      "id": "ybyoQPOvgNWz",
      "execution_count": 34,
      "outputs": []
    },
    {
      "cell_type": "code",
      "source": [
        "def half_fry():\n",
        "  print(\"egg\")\n",
        "  print(\"spam\")\n",
        "  print(\"milk\")\n",
        "  print(\"bread\")\n",
        "  print(\"butter\")\n",
        "half_fry()"
      ],
      "metadata": {
        "id": "VIFmwdLnglNi",
        "outputId": "f3a662c9-9707-405a-b95c-29c588dec232",
        "colab": {
          "base_uri": "https://localhost:8080/"
        }
      },
      "id": "VIFmwdLnglNi",
      "execution_count": 35,
      "outputs": [
        {
          "output_type": "stream",
          "name": "stdout",
          "text": [
            "egg\n",
            "spam\n",
            "milk\n",
            "bread\n",
            "butter\n"
          ]
        }
      ]
    },
    {
      "cell_type": "code",
      "source": [
        "recipe_for_dinner = half_fry()\n",
        "print(recipe_for_dinner)"
      ],
      "metadata": {
        "id": "n_NSiO14hNoS",
        "outputId": "612f8a5d-8e59-4659-bed5-caec43d85cfc",
        "colab": {
          "base_uri": "https://localhost:8080/"
        }
      },
      "id": "n_NSiO14hNoS",
      "execution_count": 36,
      "outputs": [
        {
          "output_type": "stream",
          "name": "stdout",
          "text": [
            "egg\n",
            "spam\n",
            "milk\n",
            "bread\n",
            "butter\n",
            "None\n"
          ]
        }
      ]
    },
    {
      "cell_type": "code",
      "source": [
        "print( half_fry())"
      ],
      "metadata": {
        "id": "MYNg-9Vrhwo3",
        "outputId": "62eb510e-c516-4f0a-e611-43c1d2600e31",
        "colab": {
          "base_uri": "https://localhost:8080/"
        }
      },
      "id": "MYNg-9Vrhwo3",
      "execution_count": 37,
      "outputs": [
        {
          "output_type": "stream",
          "name": "stdout",
          "text": [
            "egg\n",
            "spam\n",
            "milk\n",
            "bread\n",
            "butter\n",
            "None\n"
          ]
        }
      ]
    },
    {
      "cell_type": "code",
      "source": [
        "def half_fry(salt_qty: int):\n",
        "  return \"egg\" * salt_qty\n",
        "  print(half_fry(salt_qty))\n"
      ],
      "metadata": {
        "id": "9cV39u2Gh-5d"
      },
      "id": "9cV39u2Gh-5d",
      "execution_count": 42,
      "outputs": []
    },
    {
      "cell_type": "code",
      "source": [
        "def half_fry():\n",
        "  return \"egg \" + \"oil \" + \"salt \"\n",
        "  half_fry()"
      ],
      "metadata": {
        "id": "KiDddIhJi2vd"
      },
      "id": "KiDddIhJi2vd",
      "execution_count": 46,
      "outputs": []
    },
    {
      "cell_type": "code",
      "source": [
        "print(half_fry())"
      ],
      "metadata": {
        "id": "CDmv12TQjypT",
        "outputId": "49f8a6b0-e133-4914-bea1-b1c5c35a78c9",
        "colab": {
          "base_uri": "https://localhost:8080/"
        }
      },
      "id": "CDmv12TQjypT",
      "execution_count": 47,
      "outputs": [
        {
          "output_type": "stream",
          "name": "stdout",
          "text": [
            "egg oil salt \n"
          ]
        }
      ]
    },
    {
      "cell_type": "code",
      "source": [
        "def half_fry( salt_qty: int):\n",
        "  return \"egg \" + \"oil \" + \"salt\"\n"
      ],
      "metadata": {
        "id": "mLx08P52kE1O"
      },
      "id": "mLx08P52kE1O",
      "execution_count": 49,
      "outputs": []
    },
    {
      "cell_type": "code",
      "source": [
        "  print( half_fry())"
      ],
      "metadata": {
        "id": "-ySfgJNkkjRD",
        "outputId": "79c870cc-cf9b-43b4-c6af-bd8e053fa3af",
        "colab": {
          "base_uri": "https://localhost:8080/",
          "height": 141
        }
      },
      "id": "-ySfgJNkkjRD",
      "execution_count": 52,
      "outputs": [
        {
          "output_type": "error",
          "ename": "TypeError",
          "evalue": "half_fry() missing 1 required positional argument: 'salt_qty'",
          "traceback": [
            "\u001b[0;31m---------------------------------------------------------------------------\u001b[0m",
            "\u001b[0;31mTypeError\u001b[0m                                 Traceback (most recent call last)",
            "\u001b[0;32m<ipython-input-52-d1790388c5f5>\u001b[0m in \u001b[0;36m<cell line: 1>\u001b[0;34m()\u001b[0m\n\u001b[0;32m----> 1\u001b[0;31m \u001b[0mprint\u001b[0m\u001b[0;34m(\u001b[0m \u001b[0mhalf_fry\u001b[0m\u001b[0;34m(\u001b[0m\u001b[0;34m)\u001b[0m\u001b[0;34m)\u001b[0m\u001b[0;34m\u001b[0m\u001b[0;34m\u001b[0m\u001b[0m\n\u001b[0m",
            "\u001b[0;31mTypeError\u001b[0m: half_fry() missing 1 required positional argument: 'salt_qty'"
          ]
        }
      ]
    },
    {
      "source": [
        "def half_fry(salt_qty: int = 1): # set a default value for salt_qty\n",
        "  return \"egg \" + \"oil \" + \"salt\"\n",
        "\n",
        "print( half_fry())"
      ],
      "cell_type": "code",
      "metadata": {
        "id": "pFx8kUJ0k3RJ",
        "outputId": "9a91d322-311e-4357-b4ae-6869374b2ff5",
        "colab": {
          "base_uri": "https://localhost:8080/"
        }
      },
      "id": "pFx8kUJ0k3RJ",
      "execution_count": 55,
      "outputs": [
        {
          "output_type": "stream",
          "name": "stdout",
          "text": [
            "egg oil salt\n"
          ]
        }
      ]
    },
    {
      "cell_type": "code",
      "source": [
        "recipe_for_dinner = half_fry( \"3 salt\")\n"
      ],
      "metadata": {
        "id": "RZbmk3sala5l"
      },
      "id": "RZbmk3sala5l",
      "execution_count": 59,
      "outputs": []
    },
    {
      "cell_type": "code",
      "source": [
        "print(recipe_for_dinner)"
      ],
      "metadata": {
        "id": "79eboZeYlswX",
        "outputId": "0db8f507-e6af-48e8-e379-f5386762a7e7",
        "colab": {
          "base_uri": "https://localhost:8080/"
        }
      },
      "id": "79eboZeYlswX",
      "execution_count": 58,
      "outputs": [
        {
          "output_type": "stream",
          "name": "stdout",
          "text": [
            "egg oil salt\n"
          ]
        }
      ]
    },
    {
      "cell_type": "code",
      "source": [
        "def half_fry( salt_qty: str = \"1 salt\"): # set a default value for salt_qty\n",
        "  return \"egg \" + \"oil \" + \"salt\"\n",
        "\n",
        "print( half_fry())\n",
        ""
      ],
      "metadata": {
        "id": "GwJlZxhll-j9",
        "outputId": "fbda754a-5573-416c-ed34-1dabfe65b6e9",
        "colab": {
          "base_uri": "https://localhost:8080/"
        }
      },
      "id": "GwJlZxhll-j9",
      "execution_count": 62,
      "outputs": [
        {
          "output_type": "stream",
          "name": "stdout",
          "text": [
            "egg oil salt\n"
          ]
        }
      ]
    },
    {
      "cell_type": "code",
      "source": [
        "recipe_for_farhan = half_fry( \"3 salt\" )"
      ],
      "metadata": {
        "id": "UXISob63m9Oj"
      },
      "id": "UXISob63m9Oj",
      "execution_count": 65,
      "outputs": []
    },
    {
      "cell_type": "code",
      "source": [
        "print(recipe_for_farhan)"
      ],
      "metadata": {
        "id": "5X5hRFRUnHQX",
        "outputId": "9574f1e9-8497-40d0-b2ce-f927408e59ba",
        "colab": {
          "base_uri": "https://localhost:8080/"
        }
      },
      "id": "5X5hRFRUnHQX",
      "execution_count": 66,
      "outputs": [
        {
          "output_type": "stream",
          "name": "stdout",
          "text": [
            "egg oil salt\n"
          ]
        }
      ]
    },
    {
      "cell_type": "code",
      "source": [
        "recipe_for_amjad = half_fry()\n"
      ],
      "metadata": {
        "id": "qIabC0k7nfHE"
      },
      "id": "qIabC0k7nfHE",
      "execution_count": 69,
      "outputs": []
    },
    {
      "cell_type": "code",
      "source": [
        "print(recipe_for_amjad)"
      ],
      "metadata": {
        "id": "o8WoeExfnrzM",
        "outputId": "da32021b-f936-47c0-8ce6-dfe4f2cd44fa",
        "colab": {
          "base_uri": "https://localhost:8080/"
        }
      },
      "id": "o8WoeExfnrzM",
      "execution_count": 70,
      "outputs": [
        {
          "output_type": "stream",
          "name": "stdout",
          "text": [
            "egg oil salt\n"
          ]
        }
      ]
    }
  ],
  "metadata": {
    "kernelspec": {
      "display_name": "Python 3 (ipykernel)",
      "language": "python",
      "name": "python3"
    },
    "language_info": {
      "codemirror_mode": {
        "name": "ipython",
        "version": 3
      },
      "file_extension": ".py",
      "mimetype": "text/x-python",
      "name": "python",
      "nbconvert_exporter": "python",
      "pygments_lexer": "ipython3",
      "version": "3.9.19"
    },
    "colab": {
      "provenance": []
    }
  },
  "nbformat": 4,
  "nbformat_minor": 5
}