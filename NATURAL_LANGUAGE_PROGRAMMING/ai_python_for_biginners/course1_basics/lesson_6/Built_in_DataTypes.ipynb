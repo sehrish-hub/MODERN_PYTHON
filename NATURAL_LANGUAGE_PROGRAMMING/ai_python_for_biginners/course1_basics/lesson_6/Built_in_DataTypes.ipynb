{
  "nbformat": 4,
  "nbformat_minor": 0,
  "metadata": {
    "colab": {
      "provenance": []
    },
    "kernelspec": {
      "name": "python3",
      "display_name": "Python 3"
    },
    "language_info": {
      "name": "python"
    }
  },
  "cells": [
    {
      "cell_type": "markdown",
      "source": [
        "# ***Data Types in Python***\n",
        "\n",
        "---\n",
        "                   Built-in Data Types\n",
        "\n",
        "**Setting The Data Type**:  In Python, the data type is set when you assign a value to a variable.\n",
        "\n"
      ],
      "metadata": {
        "id": "Yvrop9VnB6g2"
      }
    },
    {
      "cell_type": "code",
      "source": [
        "# String (Text Type)\n",
        "x = \"hello world\"\n",
        "print(x) #display x\n",
        "print(type(x)) #disply the data type of x\n",
        "# specific Data Type\n",
        "x = str(\"pakistan\")\n",
        "print(x) #display x\n",
        "print(type(x)) #disply the data type of x"
      ],
      "metadata": {
        "colab": {
          "base_uri": "https://localhost:8080/"
        },
        "id": "Z0vsCYFwE-F1",
        "outputId": "e30af292-843e-46d9-e9dd-8333745001e8"
      },
      "execution_count": 96,
      "outputs": [
        {
          "output_type": "stream",
          "name": "stdout",
          "text": [
            "hello world\n",
            "<class 'str'>\n",
            "pakistan\n",
            "<class 'str'>\n"
          ]
        }
      ]
    },
    {
      "cell_type": "code",
      "source": [
        "# int(Numeric Type)\n",
        "x = 10\n",
        "print(x) #display value of x\n",
        "print(type(x)) #display the data type of x\n",
        "x = int(20)\n",
        "print(x)\n",
        "print(type(x))\n"
      ],
      "metadata": {
        "colab": {
          "base_uri": "https://localhost:8080/"
        },
        "id": "ouqhYhvFGLEY",
        "outputId": "2b708dd8-d5b4-4c62-d7e2-6ecaa550c355"
      },
      "execution_count": 97,
      "outputs": [
        {
          "output_type": "stream",
          "name": "stdout",
          "text": [
            "10\n",
            "<class 'int'>\n",
            "20\n",
            "<class 'int'>\n"
          ]
        }
      ]
    },
    {
      "cell_type": "code",
      "source": [
        "# float(Numeric Type)\n",
        "x = 10.02\n",
        "print(x) #display value of x\n",
        "print(type(x)) #display the data type of x\n",
        "\n",
        "x = float(29.2)\n",
        "print(x)\n",
        "print(type(x))\n"
      ],
      "metadata": {
        "colab": {
          "base_uri": "https://localhost:8080/"
        },
        "id": "KD-7hL2pHGC2",
        "outputId": "15913fe9-823d-4cc0-e99d-5d64eb316e7a"
      },
      "execution_count": 98,
      "outputs": [
        {
          "output_type": "stream",
          "name": "stdout",
          "text": [
            "10.02\n",
            "<class 'float'>\n",
            "29.2\n",
            "<class 'float'>\n"
          ]
        }
      ]
    },
    {
      "cell_type": "code",
      "source": [
        "# complex(Numeric Type)\n",
        "x = 1j\n",
        "print(x)\n",
        "print(type(x))\n",
        "\n",
        "x = complex(7j)\n",
        "print(x)\n",
        "print(type(x))"
      ],
      "metadata": {
        "colab": {
          "base_uri": "https://localhost:8080/"
        },
        "id": "8e1gckhFHshv",
        "outputId": "fa4e8340-dc65-477d-bfe7-95b6f8e6d941"
      },
      "execution_count": 99,
      "outputs": [
        {
          "output_type": "stream",
          "name": "stdout",
          "text": [
            "1j\n",
            "<class 'complex'>\n",
            "7j\n",
            "<class 'complex'>\n"
          ]
        }
      ]
    },
    {
      "cell_type": "code",
      "source": [
        "#list(Sequence Type)\n",
        "x = [\"banana\",\"cherry\",\"apple\"]\n",
        "print(x)\n",
        "print(type(x))\n",
        "x = list([\"pakistan\",\"cherry\",\"apple\"])\n",
        "print(x)\n",
        "print(type(x))\n",
        "x = list((\"apple\",\"pakistan\",\"karachi\"))\n",
        "print(x)\n",
        "print(type(x))"
      ],
      "metadata": {
        "colab": {
          "base_uri": "https://localhost:8080/"
        },
        "id": "LHdj7ZLhJ5ML",
        "outputId": "4e43ee1e-d9c9-482a-b1b3-0a43de4d7706"
      },
      "execution_count": 100,
      "outputs": [
        {
          "output_type": "stream",
          "name": "stdout",
          "text": [
            "['banana', 'cherry', 'apple']\n",
            "<class 'list'>\n",
            "['pakistan', 'cherry', 'apple']\n",
            "<class 'list'>\n",
            "['apple', 'pakistan', 'karachi']\n",
            "<class 'list'>\n"
          ]
        }
      ]
    },
    {
      "cell_type": "code",
      "source": [
        "# tuple(Sequence Type)\n",
        "x = (\"grapes\",\"orange\",\"apple\")\n",
        "print(x)\n",
        "print(type(x))\n",
        "x = tuple((\"apple\",\"pakistan\",\"karachi\"))\n",
        "print(x)\n",
        "print(type(x))"
      ],
      "metadata": {
        "colab": {
          "base_uri": "https://localhost:8080/"
        },
        "id": "W7Mq9lltK8of",
        "outputId": "0d2ee9f4-175f-465f-a094-a4c4459d4ba0"
      },
      "execution_count": 101,
      "outputs": [
        {
          "output_type": "stream",
          "name": "stdout",
          "text": [
            "('grapes', 'orange', 'apple')\n",
            "<class 'tuple'>\n",
            "('apple', 'pakistan', 'karachi')\n",
            "<class 'tuple'>\n"
          ]
        }
      ]
    },
    {
      "cell_type": "code",
      "source": [
        "# range(Sequence Type)\n",
        "x = range(2)\n",
        "print(x)\n",
        "print(type(x))\n"
      ],
      "metadata": {
        "colab": {
          "base_uri": "https://localhost:8080/"
        },
        "id": "PmXz5yYOMFwt",
        "outputId": "569eb861-a326-4643-b749-0ec42f4e3248"
      },
      "execution_count": 102,
      "outputs": [
        {
          "output_type": "stream",
          "name": "stdout",
          "text": [
            "range(0, 2)\n",
            "<class 'range'>\n"
          ]
        }
      ]
    },
    {
      "cell_type": "code",
      "source": [
        "# dict(Mapping Type)\n",
        "x = {\"name\" : \"sehrish\", \"age\" : \"21\"}\n",
        "print(x)\n",
        "print(type(x))\n",
        "x = dict({\"name\" : \"sehr\", \"age\" : \"23\"})\n",
        "print(x)\n",
        "print(type(x))\n",
        "x = dict(name=\"John\", age=36)\n",
        "print(x)\n",
        "print(type(x))\n"
      ],
      "metadata": {
        "colab": {
          "base_uri": "https://localhost:8080/"
        },
        "id": "XNma2nIBMymb",
        "outputId": "8c24ecf6-c77f-4f6f-f6f7-b0b5e1334756"
      },
      "execution_count": 103,
      "outputs": [
        {
          "output_type": "stream",
          "name": "stdout",
          "text": [
            "{'name': 'sehrish', 'age': '21'}\n",
            "<class 'dict'>\n",
            "{'name': 'sehr', 'age': '23'}\n",
            "<class 'dict'>\n",
            "{'name': 'John', 'age': 36}\n",
            "<class 'dict'>\n"
          ]
        }
      ]
    },
    {
      "cell_type": "code",
      "source": [
        "# set(Set Type)\n",
        "x = {\"apple\",\"banana\",\"cherry\"}\n",
        "print(x)\n",
        "print(type(x))\n",
        "x = set((\"apple\",\"banana\",\"cherry\"))\n",
        "print(x)\n",
        "print(type(x))\n",
        "\n"
      ],
      "metadata": {
        "colab": {
          "base_uri": "https://localhost:8080/"
        },
        "id": "B2vOT4rtOBxz",
        "outputId": "37749670-2000-4e7f-a3a2-31ab8fd5af43"
      },
      "execution_count": 104,
      "outputs": [
        {
          "output_type": "stream",
          "name": "stdout",
          "text": [
            "{'banana', 'cherry', 'apple'}\n",
            "<class 'set'>\n",
            "{'banana', 'cherry', 'apple'}\n",
            "<class 'set'>\n"
          ]
        }
      ]
    },
    {
      "cell_type": "code",
      "source": [
        "# frozenset(Set Type)\n",
        "x = frozenset({\"apple\",\"mango\",\"banana\"})\n",
        "print(x)\n",
        "print(type(x))\n",
        "x = frozenset((\"apple\",\"mango\",\"banana\"))\n",
        "print(x)\n",
        "print(type(x))"
      ],
      "metadata": {
        "colab": {
          "base_uri": "https://localhost:8080/"
        },
        "id": "TE9msf2CPT9D",
        "outputId": "f89d6bcf-daf7-4f5b-d874-02c73ce1f328"
      },
      "execution_count": 105,
      "outputs": [
        {
          "output_type": "stream",
          "name": "stdout",
          "text": [
            "frozenset({'banana', 'apple', 'mango'})\n",
            "<class 'frozenset'>\n",
            "frozenset({'banana', 'apple', 'mango'})\n",
            "<class 'frozenset'>\n"
          ]
        }
      ]
    },
    {
      "cell_type": "code",
      "source": [
        "# prompt: writa a coda that generate bool\n",
        "\n",
        "# bool(Boolean Type)\n",
        "x = True\n",
        "print(x)\n",
        "print(type(x))\n"
      ],
      "metadata": {
        "colab": {
          "base_uri": "https://localhost:8080/"
        },
        "id": "VvZRhzBbQBZ2",
        "outputId": "a701754c-f0c0-4aa8-f6b7-e2be1a64cafe"
      },
      "execution_count": 106,
      "outputs": [
        {
          "output_type": "stream",
          "name": "stdout",
          "text": [
            "True\n",
            "<class 'bool'>\n"
          ]
        }
      ]
    },
    {
      "cell_type": "code",
      "source": [
        "# prompt: write a code that generate bytes\n",
        "# bytes(Binary Type)\n",
        "x = b\"hello\"\n",
        "print(x)\n",
        "print(type(x))\n",
        "\n",
        "# bytes(Binary Type)\n",
        "x = bytes(6)\n",
        "print(x)\n",
        "print(type(x))"
      ],
      "metadata": {
        "colab": {
          "base_uri": "https://localhost:8080/"
        },
        "id": "fgBQRIlBQo10",
        "outputId": "3e17dde4-1b7c-407e-b659-fde404bd9090"
      },
      "execution_count": 107,
      "outputs": [
        {
          "output_type": "stream",
          "name": "stdout",
          "text": [
            "b'hello'\n",
            "<class 'bytes'>\n",
            "b'\\x00\\x00\\x00\\x00\\x00\\x00'\n",
            "<class 'bytes'>\n"
          ]
        }
      ]
    },
    {
      "cell_type": "code",
      "source": [
        "# bytearray(Binary Type)\n",
        "x = bytearray(3)\n",
        "print(x)\n",
        "print(type(x))\n"
      ],
      "metadata": {
        "id": "1E1C1JgNQ6pz",
        "colab": {
          "base_uri": "https://localhost:8080/"
        },
        "outputId": "ad77de08-c852-46f0-92ec-6dda3232e172"
      },
      "execution_count": 108,
      "outputs": [
        {
          "output_type": "stream",
          "name": "stdout",
          "text": [
            "bytearray(b'\\x00\\x00\\x00')\n",
            "<class 'bytearray'>\n"
          ]
        }
      ]
    },
    {
      "cell_type": "code",
      "source": [
        "# memoryview(Binary Type)\n",
        "x = memoryview(bytes(8))\n",
        "print(x)\n",
        "print(type(x))\n"
      ],
      "metadata": {
        "colab": {
          "base_uri": "https://localhost:8080/"
        },
        "id": "TkJh8qC3WMZ0",
        "outputId": "64eef1bf-df8f-4ce5-bff7-de125a91bbf0"
      },
      "execution_count": 109,
      "outputs": [
        {
          "output_type": "stream",
          "name": "stdout",
          "text": [
            "<memory at 0x7a8807d344c0>\n",
            "<class 'memoryview'>\n"
          ]
        }
      ]
    },
    {
      "cell_type": "code",
      "source": [
        "# nonetype\n",
        "x = None\n",
        "print(x)\n",
        "print(type(x))"
      ],
      "metadata": {
        "colab": {
          "base_uri": "https://localhost:8080/"
        },
        "id": "Oy37A9zNWv5b",
        "outputId": "91058f91-19ea-44c3-d9f8-84dfda2fb16a"
      },
      "execution_count": 110,
      "outputs": [
        {
          "output_type": "stream",
          "name": "stdout",
          "text": [
            "None\n",
            "<class 'NoneType'>\n"
          ]
        }
      ]
    },
    {
      "cell_type": "code",
      "source": [
        "# prompt:  Use the Chatbot: How do I compute 1.05 to the power of 10?\n",
        "\n",
        "result = 1.05 ** 10\n",
        "print(result)\n"
      ],
      "metadata": {
        "colab": {
          "base_uri": "https://localhost:8080/"
        },
        "id": "0FJBMqpOrDAs",
        "outputId": "aeead88d-dc15-4618-9509-b735c37c39e0"
      },
      "execution_count": 111,
      "outputs": [
        {
          "output_type": "stream",
          "name": "stdout",
          "text": [
            "1.628894626777442\n"
          ]
        }
      ]
    },
    {
      "cell_type": "code",
      "source": [
        "# prompt: generate a calculator\n",
        "\n",
        "def add(x, y):\n",
        "    \"\"\"Adds two numbers.\"\"\"\n",
        "    return x + y\n",
        "\n",
        "def subtract(x, y):\n",
        "    \"\"\"Subtracts two numbers.\"\"\"\n",
        "    return x - y\n",
        "\n",
        "def multiply(x, y):\n",
        "    \"\"\"Multiplies two numbers.\"\"\"\n",
        "    return x * y\n",
        "\n",
        "def divide(x, y):\n",
        "    \"\"\"Divides two numbers.\"\"\"\n",
        "    if y == 0:\n",
        "        return \"Division by zero error!\"\n",
        "    else:\n",
        "        return x / y\n",
        "\n",
        "while True:\n",
        "    print(\"Select operation:\")\n",
        "    print(\"1. Add\")\n",
        "    print(\"2. Subtract\")\n",
        "    print(\"3. Multiply\")\n",
        "    print(\"4. Divide\")\n",
        "    print(\"5. Exit\")\n",
        "\n",
        "    choice = input(\"Enter choice(1/2/3/4/5): \")\n",
        "\n",
        "    if choice in ('1', '2', '3', '4'):\n",
        "        try:\n",
        "            num1 = float(input(\"Enter first number: \"))\n",
        "            num2 = float(input(\"Enter second number: \"))\n",
        "        except ValueError:\n",
        "            print(\"Invalid input. Please enter numbers only.\")\n",
        "            continue\n",
        "\n",
        "        if choice == '1':\n",
        "            print(num1, \"+\", num2, \"=\", add(num1, num2))\n",
        "\n",
        "        elif choice == '2':\n",
        "            print(num1, \"-\", num2, \"=\", subtract(num1, num2))\n",
        "\n",
        "        elif choice == '3':\n",
        "            print(num1, \"*\", num2, \"=\", multiply(num1, num2))\n",
        "\n",
        "        elif choice == '4':\n",
        "            print(num1, \"/\", num2, \"=\", divide(num1, num2))\n",
        "\n",
        "    elif choice == '5':\n",
        "        break\n",
        "    else:\n",
        "        print(\"Invalid Input\")\n"
      ],
      "metadata": {
        "colab": {
          "base_uri": "https://localhost:8080/"
        },
        "id": "MfJ7_R5rrawD",
        "outputId": "c8b5ee2c-ebc6-4251-df35-52dc0497bb24"
      },
      "execution_count": 113,
      "outputs": [
        {
          "name": "stdout",
          "output_type": "stream",
          "text": [
            "Select operation:\n",
            "1. Add\n",
            "2. Subtract\n",
            "3. Multiply\n",
            "4. Divide\n",
            "5. Exit\n",
            "Enter choice(1/2/3/4/5): 4\n",
            "Enter first number: 8\n",
            "Enter second number: 8\n",
            "8.0 / 8.0 = 1.0\n",
            "Select operation:\n",
            "1. Add\n",
            "2. Subtract\n",
            "3. Multiply\n",
            "4. Divide\n",
            "5. Exit\n",
            "Enter choice(1/2/3/4/5): 3\n",
            "Enter first number: 7\n",
            "Enter second number: 5\n",
            "7.0 * 5.0 = 35.0\n",
            "Select operation:\n",
            "1. Add\n",
            "2. Subtract\n",
            "3. Multiply\n",
            "4. Divide\n",
            "5. Exit\n",
            "Enter choice(1/2/3/4/5): 5\n"
          ]
        }
      ]
    },
    {
      "cell_type": "code",
      "source": [
        "# prompt: Write code to convert 6 feet to meters\n",
        "\n",
        "feet = 6\n",
        "meters = feet * 0.3048\n",
        "print(f\"{feet} feet is equal to {meters} meters\")\n"
      ],
      "metadata": {
        "colab": {
          "base_uri": "https://localhost:8080/"
        },
        "id": "nyhUG_rAsrzT",
        "outputId": "7e45145c-c6f7-4cad-b945-43cfa4e15f5f"
      },
      "execution_count": 114,
      "outputs": [
        {
          "output_type": "stream",
          "name": "stdout",
          "text": [
            "6 feet is equal to 1.8288000000000002 meters\n"
          ]
        }
      ]
    },
    {
      "cell_type": "code",
      "source": [
        "# prompt: make a candle graph and display here\n",
        "\n",
        "import matplotlib.pyplot as plt\n",
        "\n",
        "# Sample data for the candle graph\n",
        "data = {\n",
        "    'Open': [10, 12, 11, 13],\n",
        "    'High': [15, 14, 13, 15],\n",
        "    'Low': [8, 10, 9, 11],\n",
        "    'Close': [13, 13, 11, 14]\n",
        "}\n",
        "\n",
        "# Create the candle graph\n",
        "fig, ax = plt.subplots()\n",
        "\n",
        "# Plot the candles\n",
        "ax.plot(data['Open'], marker='o', linestyle='-', color='green', label='Open')\n",
        "ax.plot(data['High'], marker='o', linestyle='-', color='blue', label='High')\n",
        "ax.plot(data['Low'], marker='o', linestyle='-', color='red', label='Low')\n",
        "ax.plot(data['Close'], marker='o', linestyle='-', color='black', label='Close')\n",
        "\n",
        "# Add labels and title\n",
        "plt.xlabel('Time')\n",
        "plt.ylabel('Price')\n",
        "plt.title('Candle Graph')\n",
        "\n",
        "# Add legend\n",
        "plt.legend()\n",
        "\n",
        "# Display the graph\n",
        "plt.show()\n"
      ],
      "metadata": {
        "colab": {
          "base_uri": "https://localhost:8080/",
          "height": 472
        },
        "id": "U2OWq8xHtM2p",
        "outputId": "f99eb7a2-e5bc-4778-9e52-f9346429bb53"
      },
      "execution_count": 115,
      "outputs": [
        {
          "output_type": "display_data",
          "data": {
            "text/plain": [
              "<Figure size 640x480 with 1 Axes>"
            ],
            "image/png": "[encoded data removed]"
          },
          "metadata": {}
        }
      ]
    },
    {
      "cell_type": "code",
      "source": [
        "# prompt: make a candle graph like crypto  and display here\n",
        "\n",
        "import matplotlib.pyplot as plt\n",
        "import numpy as np\n",
        "\n",
        "# Sample data for the candle graph\n",
        "data = {\n",
        "    'Open': [10, 12, 11, 13],\n",
        "    'High': [15, 14, 13, 15],\n",
        "    'Low': [8, 10, 9, 11],\n",
        "    'Close': [13, 13, 11, 14]\n",
        "}\n",
        "\n",
        "# Create the candle graph\n",
        "fig, ax = plt.subplots()\n",
        "\n",
        "# Calculate the width of the bars\n",
        "width = 0.5\n",
        "\n",
        "# Plot the candles\n",
        "for i in range(len(data['Open'])):\n",
        "    if data['Close'][i] >= data['Open'][i]:\n",
        "        color = 'green'\n",
        "    else:\n",
        "        color = 'red'\n",
        "    ax.bar(i, data['High'][i] - data['Low'][i], bottom=data['Low'][i], width=width, color=color, alpha=0.7)\n",
        "    ax.plot([i, i], [data['Open'][i], data['Close'][i]], color='black', linewidth=2)\n",
        "\n",
        "# Add labels and title\n",
        "plt.xlabel('Time')\n",
        "plt.ylabel('Price')\n",
        "plt.title('Candle Graph')\n",
        "\n",
        "# Display the graph\n",
        "plt.show()\n"
      ],
      "metadata": {
        "colab": {
          "base_uri": "https://localhost:8080/",
          "height": 472
        },
        "id": "WB-mVooqwtjV",
        "outputId": "bbaadf91-9a8e-4a59-fbed-0e5b18979a8d"
      },
      "execution_count": 133,
      "outputs": [
        {
          "output_type": "display_data",
          "data": {
            "text/plain": [
              "<Figure size 640x480 with 1 Axes>"
            ],
            "image/png": "[encoded data removed]"
          },
          "metadata": {}
        }
      ]
    }
  ]
}