{
  "nbformat": 4,
  "nbformat_minor": 0,
  "metadata": {
    "colab": {
      "provenance": [],
      "gpuType": "T4"
    },
    "kernelspec": {
      "name": "python3",
      "display_name": "Python 3"
    },
    "language_info": {
      "name": "python"
    },
    "accelerator": "GPU"
  },
  "cells": [
    {
      "cell_type": "markdown",
      "source": [
        "# ***Python Operators***\n",
        "\n",
        "---\n",
        "Operators are used to perform operations on variables and vales.  \n",
        "python divides the operators in the following groups:\n",
        "1.   Python Arithmetic Operators:  \n",
        "Arithmetic operators are used with numeric values to perform common mathematical operations.\n",
        "\n",
        "\n",
        "\n",
        "\n",
        "\n",
        "\n",
        "\n",
        "\n",
        "\n",
        "\n",
        "\n"
      ],
      "metadata": {
        "id": "MbH6VoR7-U1K"
      }
    },
    {
      "cell_type": "code",
      "source": [
        "# 1.Addition\n",
        "x : int = 32\n",
        "y : int = 3\n",
        "z : int = x + y\n",
        "print(z)\n",
        "print(type(z))\n"
      ],
      "metadata": {
        "colab": {
          "base_uri": "https://localhost:8080/"
        },
        "id": "DobRLcRAC6xH",
        "outputId": "ba32b557-9565-45c8-e922-8351da28499d"
      },
      "execution_count": null,
      "outputs": [
        {
          "output_type": "stream",
          "name": "stdout",
          "text": [
            "35\n",
            "<class 'int'>\n"
          ]
        }
      ]
    },
    {
      "cell_type": "code",
      "source": [
        "# 2.subtraction\n",
        "x : int = 5\n",
        "y : int = 2\n",
        "z : int = x - y\n",
        "print(z)\n",
        "print(type(z))"
      ],
      "metadata": {
        "colab": {
          "base_uri": "https://localhost:8080/"
        },
        "id": "9bjOkIsbJshY",
        "outputId": "b0a781ab-0786-414f-d87a-a80491a569d6"
      },
      "execution_count": null,
      "outputs": [
        {
          "output_type": "stream",
          "name": "stdout",
          "text": [
            "3\n",
            "<class 'int'>\n"
          ]
        }
      ]
    },
    {
      "cell_type": "code",
      "source": [
        "# 3.multiplication\n",
        "x : int = 2\n",
        "y : int = 3\n",
        "z : int = x * y\n",
        "print(z)\n",
        "print(type(z))"
      ],
      "metadata": {
        "colab": {
          "base_uri": "https://localhost:8080/"
        },
        "id": "aln24sD_J-aF",
        "outputId": "316152bc-d708-452b-e680-7bc02db0883d"
      },
      "execution_count": null,
      "outputs": [
        {
          "output_type": "stream",
          "name": "stdout",
          "text": [
            "6\n",
            "<class 'int'>\n"
          ]
        }
      ]
    },
    {
      "cell_type": "code",
      "source": [
        "# 4.division\n",
        "x : int = 80\n",
        "y : int = 40\n",
        "z : int = x /y\n",
        "print(z)\n",
        "print(type(z))"
      ],
      "metadata": {
        "colab": {
          "base_uri": "https://localhost:8080/"
        },
        "id": "v2fwOaxbKEWE",
        "outputId": "32cb4e80-2870-4c9b-f65f-0c41547f41a2"
      },
      "execution_count": null,
      "outputs": [
        {
          "output_type": "stream",
          "name": "stdout",
          "text": [
            "2.0\n",
            "<class 'float'>\n"
          ]
        }
      ]
    },
    {
      "cell_type": "code",
      "source": [
        "# 5.modulus\n",
        "x : int = 5\n",
        "y : int = 2\n",
        "z : int = x % y\n",
        "print(z)\n",
        "print(type(z))"
      ],
      "metadata": {
        "colab": {
          "base_uri": "https://localhost:8080/"
        },
        "id": "4XfBUMOJKQQT",
        "outputId": "eb7013db-82e7-4d3e-edfb-0eb23b781574"
      },
      "execution_count": null,
      "outputs": [
        {
          "output_type": "stream",
          "name": "stdout",
          "text": [
            "1\n",
            "<class 'int'>\n"
          ]
        }
      ]
    },
    {
      "cell_type": "code",
      "source": [
        "# 6.Exponentiation\n",
        "x : int = 5\n",
        "y : int = 2\n",
        "z : int = x ** y\n",
        "print(z)\n",
        "print(type(z))"
      ],
      "metadata": {
        "colab": {
          "base_uri": "https://localhost:8080/"
        },
        "id": "hJCHUirIKydC",
        "outputId": "8de5164f-639b-4d42-d5ea-93b3169912c1"
      },
      "execution_count": null,
      "outputs": [
        {
          "output_type": "stream",
          "name": "stdout",
          "text": [
            "25\n",
            "<class 'int'>\n"
          ]
        }
      ]
    },
    {
      "cell_type": "code",
      "source": [
        "# 7.floor division\n",
        "x : int = 5\n",
        "y : int = 2\n",
        "z : int = x // y\n",
        "print(z)\n",
        "print(type(z))"
      ],
      "metadata": {
        "colab": {
          "base_uri": "https://localhost:8080/"
        },
        "id": "1Y15XCm5K13t",
        "outputId": "494ae040-822f-46a7-e5f5-15f0944b9ca7"
      },
      "execution_count": null,
      "outputs": [
        {
          "output_type": "stream",
          "name": "stdout",
          "text": [
            "2\n",
            "<class 'int'>\n"
          ]
        }
      ]
    },
    {
      "cell_type": "markdown",
      "source": [
        "2.   Python Assignment Operators:                             \n",
        "  Assignment operators are used to assign values to variables."
      ],
      "metadata": {
        "id": "OciSIhVBNfBn"
      }
    },
    {
      "cell_type": "code",
      "source": [
        "x : int = 4\n",
        "print(x)\n",
        "print(type(x))"
      ],
      "metadata": {
        "colab": {
          "base_uri": "https://localhost:8080/"
        },
        "id": "eEaD4F2eOhnu",
        "outputId": "c13666c4-16d1-43f8-df9d-ae259e4190e5"
      },
      "execution_count": null,
      "outputs": [
        {
          "output_type": "stream",
          "name": "stdout",
          "text": [
            "4\n",
            "<class 'int'>\n"
          ]
        }
      ]
    },
    {
      "cell_type": "code",
      "source": [
        "x : int = 2\n",
        "x += 4    # x = x + 3\n",
        "print(x)\n",
        "print(type(x))"
      ],
      "metadata": {
        "id": "UVzRmqgiQB6R",
        "colab": {
          "base_uri": "https://localhost:8080/"
        },
        "outputId": "b4bacb07-83a3-4e7c-c603-6d027f7a0b8d"
      },
      "execution_count": null,
      "outputs": [
        {
          "output_type": "stream",
          "name": "stdout",
          "text": [
            "6\n",
            "<class 'int'>\n"
          ]
        }
      ]
    },
    {
      "cell_type": "code",
      "source": [
        "x : int = 2\n",
        "x -= 4    # x = x - 2\n",
        "print(x)\n",
        "print(type(x))"
      ],
      "metadata": {
        "colab": {
          "base_uri": "https://localhost:8080/"
        },
        "id": "kPw1Wp5NlyA-",
        "outputId": "99fcb699-9e03-4e49-a54c-52d0e9a7a66b"
      },
      "execution_count": null,
      "outputs": [
        {
          "output_type": "stream",
          "name": "stdout",
          "text": [
            "-2\n",
            "<class 'int'>\n"
          ]
        }
      ]
    },
    {
      "cell_type": "code",
      "source": [
        "x : int = 6\n",
        "x *= 3            # x = x * 6\n",
        "print(x)\n",
        "print(type(x))\n"
      ],
      "metadata": {
        "colab": {
          "base_uri": "https://localhost:8080/"
        },
        "id": "gOk9mErQmM4J",
        "outputId": "a61a2478-96d9-453d-f573-febba2759f0f"
      },
      "execution_count": null,
      "outputs": [
        {
          "output_type": "stream",
          "name": "stdout",
          "text": [
            "18\n",
            "<class 'int'>\n"
          ]
        }
      ]
    },
    {
      "cell_type": "code",
      "source": [
        "x : int = 6\n",
        "x /= 3            # x = x / 6\n",
        "print(x)\n",
        "print(type(x))\n",
        "\n",
        "x = 5\n",
        "\n",
        "x /= 3\n",
        "\n",
        "print(x)"
      ],
      "metadata": {
        "colab": {
          "base_uri": "https://localhost:8080/"
        },
        "id": "HFNV4kmznS9B",
        "outputId": "cafcf717-6d22-4b98-f727-d384542943a8"
      },
      "execution_count": null,
      "outputs": [
        {
          "output_type": "stream",
          "name": "stdout",
          "text": [
            "2.0\n",
            "<class 'float'>\n",
            "1.6666666666666667\n"
          ]
        }
      ]
    },
    {
      "cell_type": "code",
      "source": [
        "x : int = 6\n",
        "x %= 3            # x = x % 6\n",
        "print(x)\n",
        "print(type(x))"
      ],
      "metadata": {
        "colab": {
          "base_uri": "https://localhost:8080/"
        },
        "id": "AuIDfKctnnuJ",
        "outputId": "9accf2a6-51ae-418b-eeed-f55a5fdf6ffe"
      },
      "execution_count": null,
      "outputs": [
        {
          "output_type": "stream",
          "name": "stdout",
          "text": [
            "0\n",
            "<class 'int'>\n"
          ]
        }
      ]
    },
    {
      "cell_type": "code",
      "source": [
        "x : int = 6\n",
        "x /= 3            # x = x // 6\n",
        "print(x)\n",
        "print(type(x))"
      ],
      "metadata": {
        "colab": {
          "base_uri": "https://localhost:8080/"
        },
        "id": "hKyBm8RQsURC",
        "outputId": "ecd07d1f-3625-465e-dd9d-b691202e0108"
      },
      "execution_count": null,
      "outputs": [
        {
          "output_type": "stream",
          "name": "stdout",
          "text": [
            "2.0\n",
            "<class 'float'>\n"
          ]
        }
      ]
    },
    {
      "cell_type": "code",
      "source": [
        "x : int = 6\n",
        "x **= 3            # x = x ** 6\n",
        "print(x)\n",
        "print(type(x))"
      ],
      "metadata": {
        "colab": {
          "base_uri": "https://localhost:8080/"
        },
        "id": "O_cQqHk8ssh7",
        "outputId": "14fd2b65-8c9a-4f82-fddf-550b67f203d3"
      },
      "execution_count": null,
      "outputs": [
        {
          "output_type": "stream",
          "name": "stdout",
          "text": [
            "216\n",
            "<class 'int'>\n"
          ]
        }
      ]
    },
    {
      "cell_type": "code",
      "source": [
        "x : int = 6\n",
        "x &= 3            # x = x & 6\n",
        "print(x)\n",
        "print(type(x))"
      ],
      "metadata": {
        "colab": {
          "base_uri": "https://localhost:8080/"
        },
        "id": "C7X4IJrStAjg",
        "outputId": "b508e75f-6173-4fff-f09e-2cdeef41db15"
      },
      "execution_count": null,
      "outputs": [
        {
          "output_type": "stream",
          "name": "stdout",
          "text": [
            "2\n",
            "<class 'int'>\n"
          ]
        }
      ]
    },
    {
      "cell_type": "code",
      "source": [
        "x : int = 6\n",
        "x |= 4            # x = x | 6\n",
        "print(x)\n",
        "print(type(x))\n",
        "\n",
        "x : int = 3\n",
        "x |= 4            # x = x | 3\n",
        "print(x)\n",
        "print(type(x))    #Bitwise OR (add)"
      ],
      "metadata": {
        "colab": {
          "base_uri": "https://localhost:8080/"
        },
        "id": "Co9df85JtObC",
        "outputId": "f67f2162-1327-46d2-ac1a-cffa0bc5e211"
      },
      "execution_count": null,
      "outputs": [
        {
          "output_type": "stream",
          "name": "stdout",
          "text": [
            "6\n",
            "<class 'int'>\n",
            "7\n",
            "<class 'int'>\n"
          ]
        }
      ]
    },
    {
      "cell_type": "code",
      "source": [
        "x : int = 4\n",
        "x ^= 6   # \tx = x ^ 6 , Bitwise XOR same zero , different one\n",
        "print(x)\n",
        "print(type(x))"
      ],
      "metadata": {
        "colab": {
          "base_uri": "https://localhost:8080/"
        },
        "id": "HeYCs8vNxJLk",
        "outputId": "69784e10-d4d6-405d-c5f7-478618fc9e62"
      },
      "execution_count": null,
      "outputs": [
        {
          "output_type": "stream",
          "name": "stdout",
          "text": [
            "2\n",
            "<class 'int'>\n"
          ]
        }
      ]
    },
    {
      "cell_type": "code",
      "source": [
        "# x >>= 1 (Right Shift Assignment)\n",
        "x : int = 7  # 00000000 00000000 00000000 00000111  (7 in binary)\n",
        "x >>= 1   # \tx = x >> 1 ,\n",
        "print(x)  # 00000000 00000000 00000000 00000011  (Result: 3 in binary)\n",
        "print(type(x))"
      ],
      "metadata": {
        "colab": {
          "base_uri": "https://localhost:8080/"
        },
        "id": "BraO_Uj5zhJ2",
        "outputId": "b509e469-22cb-4418-dec6-b2f743ddbff5"
      },
      "execution_count": null,
      "outputs": [
        {
          "output_type": "stream",
          "name": "stdout",
          "text": [
            "3\n",
            "<class 'int'>\n"
          ]
        }
      ]
    },
    {
      "cell_type": "code",
      "source": [
        "x : int = 3  # 00000000 00000000 00000000 00000011  (3 in binary)\n",
        "x <<= 2   # \tx = x << 2 , x <<= 2 (Left Shift Assignment)\n",
        "print(x)   # 00000000 00000000 00000000 00001100  (Result: 12 in binary)\n",
        "print(type(x))"
      ],
      "metadata": {
        "colab": {
          "base_uri": "https://localhost:8080/"
        },
        "id": "-gVoXH_hBBrh",
        "outputId": "5f302a20-786e-43d5-f875-de960a16caf8"
      },
      "execution_count": null,
      "outputs": [
        {
          "output_type": "stream",
          "name": "stdout",
          "text": [
            "12\n",
            "<class 'int'>\n"
          ]
        }
      ]
    },
    {
      "cell_type": "code",
      "source": [
        "# Walrus Operator (:=)\n",
        "print(x := 7)\n",
        "print(type(x))\n"
      ],
      "metadata": {
        "colab": {
          "base_uri": "https://localhost:8080/"
        },
        "id": "icpBqLT2C89_",
        "outputId": "2b22f182-302f-471e-f2c1-d56a30befd99"
      },
      "execution_count": null,
      "outputs": [
        {
          "output_type": "stream",
          "name": "stdout",
          "text": [
            "7\n",
            "<class 'int'>\n"
          ]
        }
      ]
    },
    {
      "cell_type": "markdown",
      "source": [
        "3.   Python Comparison Operators:  \n",
        "Comparison operators are used to compare two values.\n",
        "\n",
        "\n",
        "\n",
        "\n",
        "\n",
        "\n",
        "\n",
        "\n"
      ],
      "metadata": {
        "id": "SBesl9xmGcMQ"
      }
    },
    {
      "cell_type": "code",
      "source": [
        "# 01 equal operator\n",
        "x = 7\n",
        "y = 8\n",
        "print(x == y)\n",
        "# returns False because 7 is not equal to 8\n",
        "\n",
        "x = 5\n",
        "y = 5\n",
        "z= (x==y)\n",
        "print(z)\n",
        "print(type(z))\n",
        "# returns true because 5 is equal to 5"
      ],
      "metadata": {
        "colab": {
          "base_uri": "https://localhost:8080/"
        },
        "id": "9HVpqBscHV6-",
        "outputId": "4b0d39ef-5c2c-4bc1-f950-f640565c103f"
      },
      "execution_count": null,
      "outputs": [
        {
          "output_type": "stream",
          "name": "stdout",
          "text": [
            "False\n",
            "True\n",
            "<class 'bool'>\n"
          ]
        }
      ]
    },
    {
      "cell_type": "code",
      "source": [
        "# 02 not equal operator\n",
        "x = 7\n",
        "y = 8\n",
        "print(x != y)\n",
        "\n",
        "\n",
        "x = 5\n",
        "y = 5\n",
        "z= (x!=y)\n",
        "print(z)\n",
        "print(type(z))\n"
      ],
      "metadata": {
        "colab": {
          "base_uri": "https://localhost:8080/"
        },
        "id": "rZY1MCb9JInk",
        "outputId": "7d7a8823-9b45-4e7b-cd28-2fa904fd78e3"
      },
      "execution_count": null,
      "outputs": [
        {
          "output_type": "stream",
          "name": "stdout",
          "text": [
            "True\n",
            "False\n",
            "<class 'bool'>\n"
          ]
        }
      ]
    },
    {
      "cell_type": "code",
      "source": [
        "# 03 greater than operator\n",
        "x = 7\n",
        "y = 8\n",
        "print(x > y)\n",
        "\n",
        "x = 9\n",
        "y = 7\n",
        "print(x > y)\n",
        "\n",
        "\n",
        "x = 5\n",
        "y = 5\n",
        "z= (x>y)\n",
        "print(z)\n",
        "print(type(z))"
      ],
      "metadata": {
        "colab": {
          "base_uri": "https://localhost:8080/"
        },
        "id": "frGrjb2cJiS3",
        "outputId": "d7f951d4-bfe8-411e-df46-62be8ff80b33"
      },
      "execution_count": null,
      "outputs": [
        {
          "output_type": "stream",
          "name": "stdout",
          "text": [
            "False\n",
            "True\n",
            "False\n",
            "<class 'bool'>\n"
          ]
        }
      ]
    },
    {
      "cell_type": "code",
      "source": [
        "# 04 less than operator\n",
        "x = 7\n",
        "y = 8\n",
        "print(x < y)\n",
        "\n",
        "x = 9\n",
        "y = 7\n",
        "print(x < y)\n",
        "\n",
        "\n",
        "x = 5\n",
        "y = 5\n",
        "z= (x<y)\n",
        "print(z)\n",
        "print(type(z))"
      ],
      "metadata": {
        "colab": {
          "base_uri": "https://localhost:8080/"
        },
        "id": "Rk8gLolELC3k",
        "outputId": "b4073c02-fe81-48fb-ea7f-b594d7b1516e"
      },
      "execution_count": null,
      "outputs": [
        {
          "output_type": "stream",
          "name": "stdout",
          "text": [
            "True\n",
            "False\n",
            "False\n",
            "<class 'bool'>\n"
          ]
        }
      ]
    },
    {
      "cell_type": "code",
      "source": [
        "# 05 Greater than or equal to\n",
        "x = 7\n",
        "y = 8\n",
        "print(x >= y)\n",
        "\n",
        "x = 9\n",
        "y = 7\n",
        "print(x >= y)\n",
        "\n",
        "\n",
        "x = 5\n",
        "y = 5\n",
        "z= (x>=y)\n",
        "print(z)\n",
        "print(type(z))"
      ],
      "metadata": {
        "colab": {
          "base_uri": "https://localhost:8080/"
        },
        "id": "SEK08gnoLPtk",
        "outputId": "efd4b98d-3d27-4a94-e377-43fd41ab89c8"
      },
      "execution_count": null,
      "outputs": [
        {
          "output_type": "stream",
          "name": "stdout",
          "text": [
            "False\n",
            "True\n",
            "True\n",
            "<class 'bool'>\n"
          ]
        }
      ]
    },
    {
      "cell_type": "code",
      "source": [
        "# 06 less than or equal to\n",
        "x = 7\n",
        "y = 8\n",
        "print(x <= y)\n",
        "\n",
        "x = 9\n",
        "y = 7\n",
        "print(x <= y)\n",
        "\n",
        "\n",
        "x = 5\n",
        "y = 5\n",
        "z= (x<=y)\n",
        "print(z)\n",
        "print(type(z))"
      ],
      "metadata": {
        "colab": {
          "base_uri": "https://localhost:8080/"
        },
        "id": "tzrLot1gLfe3",
        "outputId": "21591f03-af01-450d-d73e-7ba7ed3aadb9"
      },
      "execution_count": null,
      "outputs": [
        {
          "output_type": "stream",
          "name": "stdout",
          "text": [
            "True\n",
            "False\n",
            "True\n",
            "<class 'bool'>\n"
          ]
        }
      ]
    },
    {
      "cell_type": "markdown",
      "source": [
        "4. Python Logical Operators:                                            \n",
        " Logical operators are used to combine conditional statements.\n",
        "\n"
      ],
      "metadata": {
        "id": "HLBgnKoFNECg"
      }
    },
    {
      "cell_type": "code",
      "source": [
        "# and, Returns True if both statements are true, x < 5 and  x < 10\n",
        "x = 5\n",
        "print(x < 5 and x < 8)\n",
        "x = 5\n",
        "\n",
        "print(x > 3 and x < 10)\n"
      ],
      "metadata": {
        "colab": {
          "base_uri": "https://localhost:8080/"
        },
        "id": "3dEpmay5PWBU",
        "outputId": "24e1f977-37cc-461b-8394-6375669673a5"
      },
      "execution_count": null,
      "outputs": [
        {
          "output_type": "stream",
          "name": "stdout",
          "text": [
            "False\n",
            "True\n"
          ]
        }
      ]
    },
    {
      "cell_type": "code",
      "source": [
        "# or , \tReturns True if one of the statements is true, x < 5 or x < 4\n",
        "x = 5\n",
        "print(x > 3 or x < 4)\n",
        "# returns True because one of the conditions are true (5 is greater than 3, but 5 is not less than 4)\n",
        "x = 5\n",
        "print(x < 3 or x < 4)"
      ],
      "metadata": {
        "colab": {
          "base_uri": "https://localhost:8080/"
        },
        "id": "75y-3-sXRNqM",
        "outputId": "eec0ac1c-d295-45f8-df36-511835a888b7"
      },
      "execution_count": null,
      "outputs": [
        {
          "output_type": "stream",
          "name": "stdout",
          "text": [
            "True\n",
            "False\n"
          ]
        }
      ]
    },
    {
      "cell_type": "code",
      "source": [
        "# not, Reverse the result, returns False if the result is true, not(x < 5 and x < 10)\n",
        "x = 5\n",
        "print(not(x > 3 and x < 10))\n",
        "# returns False because not is used to reverse the result\n",
        "\n",
        "x = 5\n",
        "print(not(x < 3 and x < 2))"
      ],
      "metadata": {
        "colab": {
          "base_uri": "https://localhost:8080/"
        },
        "id": "SeUc2VnCSQ5b",
        "outputId": "b9cd3529-3ace-4aaa-a8b2-d561a8b67841"
      },
      "execution_count": null,
      "outputs": [
        {
          "output_type": "stream",
          "name": "stdout",
          "text": [
            "False\n",
            "True\n"
          ]
        }
      ]
    },
    {
      "cell_type": "markdown",
      "source": [
        "5.Python Identity Operators:      \n",
        " Identity operators are used to compare the objects, not if they are equal, but if they are actually the same object, with the same memory location"
      ],
      "metadata": {
        "id": "KyAUfcnnU7Cw"
      }
    },
    {
      "cell_type": "code",
      "source": [
        "# is , \tReturns True if both variables are the same object, x is y\n",
        "x = [\"apple\", \"banana\"]\n",
        "y = [\"apple\", \"banana\"]\n",
        "z = x\n",
        "print(x is z) # returns True because z is the same object as x\n",
        "\n",
        "print(x is y) # returns False because x is not the same object as y, even if they have the same content\n",
        "\n",
        "print(x == y) # to demonstrate the difference betweeen \"is\" and \"==\": this comparison returns True because x is equal to y\n",
        "\n",
        "x = [\"apple\", \"banana\"]\n",
        "y = [\"apple\", \"banana\"]\n",
        "z = y\n",
        "print(x is z)\n",
        "print(x is y)\n",
        "print(x == y)"
      ],
      "metadata": {
        "colab": {
          "base_uri": "https://localhost:8080/"
        },
        "id": "XjbwNQuVVc8g",
        "outputId": "97109f68-bf5a-44a0-ee33-cd42b16786fe"
      },
      "execution_count": null,
      "outputs": [
        {
          "output_type": "stream",
          "name": "stdout",
          "text": [
            "True\n",
            "False\n",
            "True\n",
            "False\n",
            "False\n",
            "True\n"
          ]
        }
      ]
    },
    {
      "cell_type": "code",
      "source": [
        "# is not. Returns True if both variables are not the same object , x is not y\n",
        "x = 4 # [\"apple\", \"banana\"]\n",
        "y = 2 # [\"apple\", \"banana\"]\n",
        "z = x\n",
        "print(x is not z) # returns False because z is the same object as x\n",
        "print(x is not y) # returns True because x is not the same object as y, even if they have the same content\n",
        "print(x != y) # to demonstrate the difference betweeen \"is not\" and \"!=\": this comparison returns False because x is equal to y"
      ],
      "metadata": {
        "colab": {
          "base_uri": "https://localhost:8080/"
        },
        "id": "dFURPIBfbRdY",
        "outputId": "e585bf80-4cab-429a-d63e-980757994970"
      },
      "execution_count": null,
      "outputs": [
        {
          "output_type": "stream",
          "name": "stdout",
          "text": [
            "False\n",
            "True\n",
            "True\n"
          ]
        }
      ]
    },
    {
      "cell_type": "markdown",
      "source": [
        "6. Python Membership Operators:  \n",
        "  Membership operators are used to test if a sequence is presented in an object."
      ],
      "metadata": {
        "id": "BIdmaiUidYrz"
      }
    },
    {
      "cell_type": "code",
      "source": [
        "# in , \tReturns True if a sequence with the specified value is present in the object, x in y\n",
        "x = [\"apple\", \"banana\"]\n",
        "print(\"banana\" in x)\n",
        "# returns True because a sequence with the value \"banana\" is in the list"
      ],
      "metadata": {
        "id": "_CyqXdgGdtDX",
        "colab": {
          "base_uri": "https://localhost:8080/"
        },
        "outputId": "25a48c64-d3b2-40bc-9fe1-1e4bb0d283f3"
      },
      "execution_count": null,
      "outputs": [
        {
          "output_type": "stream",
          "name": "stdout",
          "text": [
            "True\n"
          ]
        }
      ]
    },
    {
      "cell_type": "code",
      "source": [
        "# not in , Returns True if a sequence with the specified value is not present in the object, x not in y\n",
        "x = [\"apple\", \"banana\"]\n",
        "print(\"pineapple\" not in x)# returns True because a sequence with the value \"pineapple\" is not in the list"
      ],
      "metadata": {
        "colab": {
          "base_uri": "https://localhost:8080/"
        },
        "id": "6fpzyps3f78_",
        "outputId": "8f8ef2ec-e77d-4791-b3f2-f80fde053ab4"
      },
      "execution_count": null,
      "outputs": [
        {
          "output_type": "stream",
          "name": "stdout",
          "text": [
            "True\n"
          ]
        }
      ]
    },
    {
      "cell_type": "markdown",
      "source": [
        "7. Python Bitwise Operators:    \n",
        "   Bitwise operators are used to compare (binary) numbers"
      ],
      "metadata": {
        "id": "Zhn98U59gfCC"
      }
    },
    {
      "cell_type": "code",
      "source": [
        "# Operator\tName\t Description\t                            Example\n",
        "# &,       \tAND\t,  Sets each bit to 1 if both bits are 1, \tx & y\n",
        "print(6 & 3)\n",
        "\n",
        "\n",
        "\n",
        "\"\"\"\n",
        "The & operator compares each bit and set it to 1 if both are 1, otherwise it is set to 0:\n",
        "\n",
        "6 = 0000000000000110\n",
        "3 = 0000000000000011\n",
        "--------------------\n",
        "2 = 0000000000000010\n",
        "====================\n",
        "\n",
        "Decimal numbers and their binary values:\n",
        "0 = 0000000000000000\n",
        "1 = 0000000000000001\n",
        "2 = 0000000000000010\n",
        "3 = 0000000000000011\n",
        "4 = 0000000000000100\n",
        "5 = 0000000000000101\n",
        "6 = 0000000000000110\n",
        "7 = 0000000000000111\n",
        "\"\"\"\n",
        "\n"
      ],
      "metadata": {
        "id": "VEhc9Qwag_0J",
        "colab": {
          "base_uri": "https://localhost:8080/",
          "height": 87
        },
        "outputId": "d328c88a-0e40-412b-e88a-34182028f3a2"
      },
      "execution_count": 1,
      "outputs": [
        {
          "output_type": "stream",
          "name": "stdout",
          "text": [
            "2\n"
          ]
        },
        {
          "output_type": "execute_result",
          "data": {
            "text/plain": [
              "'\\nThe & operator compares each bit and set it to 1 if both are 1, otherwise it is set to 0:\\n\\n6 = 0000000000000110\\n3 = 0000000000000011\\n--------------------\\n2 = 0000000000000010\\n====================\\n\\nDecimal numbers and their binary values:\\n0 = 0000000000000000\\n1 = 0000000000000001\\n2 = 0000000000000010\\n3 = 0000000000000011\\n4 = 0000000000000100\\n5 = 0000000000000101\\n6 = 0000000000000110\\n7 = 0000000000000111\\n'"
            ],
            "application/vnd.google.colaboratory.intrinsic+json": {
              "type": "string"
            }
          },
          "metadata": {},
          "execution_count": 1
        }
      ]
    },
    {
      "cell_type": "code",
      "source": [
        "# |\t,OR\t,Sets each bit to 1 if one of two bits is 1,\tx | y\n",
        "print(6 | 3)\n",
        "\n",
        "\n",
        "\n",
        "\"\"\"\n",
        "The | operator compares each bit and set it to 1 if one or both is 1, otherwise it is set to 0:\n",
        "\n",
        "6 = 0000000000000110\n",
        "3 = 0000000000000011\n",
        "--------------------\n",
        "7 = 0000000000000111\n",
        "====================\n",
        "\n",
        "Decimal numbers and their binary values:\n",
        "0 = 0000000000000000\n",
        "1 = 0000000000000001\n",
        "2 = 0000000000000010\n",
        "3 = 0000000000000011\n",
        "4 = 0000000000000100\n",
        "5 = 0000000000000101\n",
        "6 = 0000000000000110\n",
        "7 = 0000000000000111\n",
        "\"\"\"\n",
        "\n"
      ],
      "metadata": {
        "colab": {
          "base_uri": "https://localhost:8080/",
          "height": 104
        },
        "id": "Unje3OBn1x2b",
        "outputId": "17335471-5df6-4cb1-b6a3-a0bd6f22c6c5"
      },
      "execution_count": 2,
      "outputs": [
        {
          "output_type": "stream",
          "name": "stdout",
          "text": [
            "7\n"
          ]
        },
        {
          "output_type": "execute_result",
          "data": {
            "text/plain": [
              "'\\nThe | operator compares each bit and set it to 1 if one or both is 1, otherwise it is set to 0:\\n\\n6 = 0000000000000110\\n3 = 0000000000000011\\n--------------------\\n7 = 0000000000000111\\n====================\\n\\nDecimal numbers and their binary values:\\n0 = 0000000000000000\\n1 = 0000000000000001\\n2 = 0000000000000010\\n3 = 0000000000000011\\n4 = 0000000000000100\\n5 = 0000000000000101\\n6 = 0000000000000110\\n7 = 0000000000000111\\n'"
            ],
            "application/vnd.google.colaboratory.intrinsic+json": {
              "type": "string"
            }
          },
          "metadata": {},
          "execution_count": 2
        }
      ]
    },
    {
      "cell_type": "code",
      "source": [
        "# ^,\tXOR,\tSets each bit to 1 if only one of two bits is 1,\tx ^ y\n",
        "print(6 ^ 3)\n",
        "\n",
        "\n",
        "\n",
        "\"\"\"\n",
        "The ^ operator compares each bit and set it to 1 if only one is 1, otherwise (if both are 1 or both are 0) it is set to 0:\n",
        "\n",
        "6 = 0000000000000110\n",
        "3 = 0000000000000011\n",
        "--------------------\n",
        "5 = 0000000000000101\n",
        "====================\n",
        "\n",
        "Decimal numbers and their binary values:\n",
        "0 = 0000000000000000\n",
        "1 = 0000000000000001\n",
        "2 = 0000000000000010\n",
        "3 = 0000000000000011\n",
        "4 = 0000000000000100\n",
        "5 = 0000000000000101\n",
        "6 = 0000000000000110\n",
        "7 = 0000000000000111\n",
        "\"\"\"\n",
        "\n"
      ],
      "metadata": {
        "colab": {
          "base_uri": "https://localhost:8080/",
          "height": 104
        },
        "id": "0OfL6c5M2HRH",
        "outputId": "43b88e87-c623-4965-c3a1-7f3f363c337d"
      },
      "execution_count": 3,
      "outputs": [
        {
          "output_type": "stream",
          "name": "stdout",
          "text": [
            "5\n"
          ]
        },
        {
          "output_type": "execute_result",
          "data": {
            "text/plain": [
              "'\\nThe ^ operator compares each bit and set it to 1 if only one is 1, otherwise (if both are 1 or both are 0) it is set to 0:\\n\\n6 = 0000000000000110\\n3 = 0000000000000011\\n--------------------\\n5 = 0000000000000101\\n====================\\n\\nDecimal numbers and their binary values:\\n0 = 0000000000000000\\n1 = 0000000000000001\\n2 = 0000000000000010\\n3 = 0000000000000011\\n4 = 0000000000000100\\n5 = 0000000000000101\\n6 = 0000000000000110\\n7 = 0000000000000111\\n'"
            ],
            "application/vnd.google.colaboratory.intrinsic+json": {
              "type": "string"
            }
          },
          "metadata": {},
          "execution_count": 3
        }
      ]
    },
    {
      "cell_type": "code",
      "source": [
        "# ~\t,NOT,\tInverts all the bits\t,~x\n",
        "print(~3)\n",
        "\n",
        "\n",
        "\n",
        "\"\"\"\n",
        "The ~ operator inverts each bit (0 becomes 1 and 1 becomes 0).\n",
        "\n",
        "Inverted 3 becomes -4:\n",
        " 3 = 0000000000000011\n",
        "-4 = 1111111111111100\n",
        "\n",
        "Decimal numbers and their binary values:\n",
        " 4 = 0000000000000100\n",
        " 3 = 0000000000000011\n",
        " 2 = 0000000000000010\n",
        " 1 = 0000000000000001\n",
        " 0 = 0000000000000000\n",
        "-1 = 1111111111111111\n",
        "-2 = 1111111111111110\n",
        "-3 = 1111111111111101\n",
        "-4 = 1111111111111100\n",
        "\"\"\"\n"
      ],
      "metadata": {
        "colab": {
          "base_uri": "https://localhost:8080/",
          "height": 87
        },
        "id": "-lVr-9qG2bw0",
        "outputId": "dc12ec83-4fea-4f73-e07c-bbcb853ef20c"
      },
      "execution_count": 4,
      "outputs": [
        {
          "output_type": "stream",
          "name": "stdout",
          "text": [
            "-4\n"
          ]
        },
        {
          "output_type": "execute_result",
          "data": {
            "text/plain": [
              "'\\nThe ~ operator inverts each bit (0 becomes 1 and 1 becomes 0).\\n\\nInverted 3 becomes -4:\\n 3 = 0000000000000011\\n-4 = 1111111111111100\\n\\nDecimal numbers and their binary values:\\n 4 = 0000000000000100\\n 3 = 0000000000000011\\n 2 = 0000000000000010\\n 1 = 0000000000000001\\n 0 = 0000000000000000\\n-1 = 1111111111111111\\n-2 = 1111111111111110\\n-3 = 1111111111111101\\n-4 = 1111111111111100\\n'"
            ],
            "application/vnd.google.colaboratory.intrinsic+json": {
              "type": "string"
            }
          },
          "metadata": {},
          "execution_count": 4
        }
      ]
    },
    {
      "cell_type": "code",
      "source": [
        "# <<, \tZero fill left shift\t,Shift left by pushing zeros in from the right and let the leftmost bits fall off,\tx << 2\n",
        "print(3 << 2)\n",
        "\n",
        "\n",
        "\n",
        "\"\"\"\n",
        "The << operator inserts the specified number of 0's (in this case 2) from the right and let the same amount of leftmost bits fall off:\n",
        "\n",
        "If you push 00 in from the left:\n",
        " 3 = 0000000000000011\n",
        "becomes\n",
        "12 = 0000000000001100\n",
        "\n",
        "Decimal numbers and their binary values:\n",
        " 0 = 0000000000000000\n",
        " 1 = 0000000000000001\n",
        " 2 = 0000000000000010\n",
        " 3 = 0000000000000011\n",
        " 4 = 0000000000000100\n",
        " 5 = 0000000000000101\n",
        " 6 = 0000000000000110\n",
        " 7 = 0000000000000111\n",
        " 8 = 0000000000001000\n",
        " 9 = 0000000000001001\n",
        "10 = 0000000000001010\n",
        "11 = 0000000000001011\n",
        "12 = 0000000000001100\n",
        "\"\"\"\n",
        "\n"
      ],
      "metadata": {
        "colab": {
          "base_uri": "https://localhost:8080/",
          "height": 122
        },
        "id": "sF0eiGKc2w-6",
        "outputId": "5570e5c6-0df2-44d4-a6d9-6a8d76a9ccbd"
      },
      "execution_count": 5,
      "outputs": [
        {
          "output_type": "stream",
          "name": "stdout",
          "text": [
            "12\n"
          ]
        },
        {
          "output_type": "execute_result",
          "data": {
            "text/plain": [
              "\"\\nThe << operator inserts the specified number of 0's (in this case 2) from the right and let the same amount of leftmost bits fall off:\\n\\nIf you push 00 in from the left:\\n 3 = 0000000000000011\\nbecomes\\n12 = 0000000000001100\\n\\nDecimal numbers and their binary values:\\n 0 = 0000000000000000\\n 1 = 0000000000000001\\n 2 = 0000000000000010\\n 3 = 0000000000000011\\n 4 = 0000000000000100\\n 5 = 0000000000000101\\n 6 = 0000000000000110\\n 7 = 0000000000000111\\n 8 = 0000000000001000\\n 9 = 0000000000001001\\n10 = 0000000000001010\\n11 = 0000000000001011\\n12 = 0000000000001100\\n\""
            ],
            "application/vnd.google.colaboratory.intrinsic+json": {
              "type": "string"
            }
          },
          "metadata": {},
          "execution_count": 5
        }
      ]
    },
    {
      "cell_type": "code",
      "source": [
        "# >>,\tSigned right shift,\tShift right by pushing copies of the leftmost bit in from the left, and let the rightmost bits fall off, x >> 2\n",
        "print(8 >> 2)\n",
        "\n",
        "\n",
        "\n",
        "\"\"\"\n",
        "The >> operator moves each bit the specified number of times to the right. Empty holes at the left are filled with 0's.\n",
        "\n",
        "If you move each bit 2 times to the right, 8 becomes 2:\n",
        " 8 = 0000000000001000\n",
        "becomes\n",
        " 2 = 0000000000000010\n",
        "\n",
        "Decimal numbers and their binary values:\n",
        " 0 = 0000000000000000\n",
        " 1 = 0000000000000001\n",
        " 2 = 0000000000000010\n",
        " 3 = 0000000000000011\n",
        " 4 = 0000000000000100\n",
        " 5 = 0000000000000101\n",
        " 6 = 0000000000000110\n",
        " 7 = 0000000000000111\n",
        " 8 = 0000000000001000\n",
        " 9 = 0000000000001001\n",
        "10 = 0000000000001010\n",
        "11 = 0000000000001011\n",
        "12 = 0000000000001100\n",
        "\"\"\"\n",
        "\n"
      ],
      "metadata": {
        "colab": {
          "base_uri": "https://localhost:8080/",
          "height": 122
        },
        "id": "jvqPA8Fp3IYo",
        "outputId": "19a3746a-d300-4fa6-9b52-21a5d3d356fb"
      },
      "execution_count": 6,
      "outputs": [
        {
          "output_type": "stream",
          "name": "stdout",
          "text": [
            "2\n"
          ]
        },
        {
          "output_type": "execute_result",
          "data": {
            "text/plain": [
              "\"\\nThe >> operator moves each bit the specified number of times to the right. Empty holes at the left are filled with 0's.\\n\\nIf you move each bit 2 times to the right, 8 becomes 2:\\n 8 = 0000000000001000\\nbecomes\\n 2 = 0000000000000010\\n\\nDecimal numbers and their binary values:\\n 0 = 0000000000000000\\n 1 = 0000000000000001\\n 2 = 0000000000000010\\n 3 = 0000000000000011\\n 4 = 0000000000000100\\n 5 = 0000000000000101\\n 6 = 0000000000000110\\n 7 = 0000000000000111\\n 8 = 0000000000001000\\n 9 = 0000000000001001\\n10 = 0000000000001010\\n11 = 0000000000001011\\n12 = 0000000000001100\\n\""
            ],
            "application/vnd.google.colaboratory.intrinsic+json": {
              "type": "string"
            }
          },
          "metadata": {},
          "execution_count": 6
        }
      ]
    },
    {
      "cell_type": "markdown",
      "source": [
        "# **Operator Precedence**"
      ],
      "metadata": {
        "id": "75OlhMGD4cK3"
      }
    },
    {
      "cell_type": "code",
      "source": [
        "#()\tParentheses\n",
        "print((6 + 3) - (6 + 3))\n",
        "\n",
        "\"\"\"\n",
        "Parenthesis have the highest precedence, and need to be evaluated first.\n",
        "The calculation above reads 9 - 9 = 0\n",
        "\"\"\"\n",
        "#**\tExponentiation\n",
        "print(100 - 3 ** 3)\n",
        "\n",
        "\"\"\"\n",
        "Exponentiation has higher precedence than subtraction, and needs to be evaluated first.\n",
        "The calculation above reads 100 - 27 = 73\n",
        "\"\"\"\n",
        "#+x  -x  ~x\tUnary plus, unary minus, and bitwise NOT\n",
        "print(100 + ~3)\n",
        "\n",
        "\"\"\"\n",
        "Bitwise NOT has higher precedence than addition, and needs to be evaluated first.\n",
        "The calculation above reads 100 + -4 = 96\n",
        "\"\"\"\n",
        "# *  /  //  %\tMultiplication, division, floor division, and modulus\n",
        "print(100 + 5 * 3)\n",
        "\n",
        "\"\"\"\n",
        "Multiplication has higher precedence than addition, and needs to be evaluated first.\n",
        "The calculation above reads 100 + 15 = 115\n",
        "\"\"\"\n",
        "\n",
        "# +  -\tAddition and subtraction\n",
        "print(100 - 5 * 3)\n",
        "\n",
        "\"\"\"\n",
        "Subtraction has a lower precedence than multiplication, and we need to calculate the multiplication first.\n",
        "The calculation above reads 100 - 15 = 85\n",
        "\"\"\"\n",
        "\n",
        "# <<  >>\tBitwise left and right shifts\n",
        "print(8 >> 4 - 2)\n",
        "\n",
        "\"\"\"\n",
        "Bitwise right shift has a lower precedence than subtraction, and we need to calculate the subtraction first.\n",
        "The calculation above reads 8 >> 2 = 2\n",
        "\n",
        "More explanation:\n",
        "The >> operator moves each bit the specified number of times to the right. Empty holes at the left are filled with 0's.\n",
        "\n",
        "If you move each bit 2 times to the right, 8 becomes 2:\n",
        " 8 = 0000000000001000\n",
        "becomes\n",
        " 2 = 0000000000000010\n",
        "\n",
        "Decimal numbers and their binary values:\n",
        " 0 = 0000000000000000\n",
        " 1 = 0000000000000001\n",
        " 2 = 0000000000000010\n",
        " 3 = 0000000000000011\n",
        " 4 = 0000000000000100\n",
        " 5 = 0000000000000101\n",
        " 6 = 0000000000000110\n",
        " 7 = 0000000000000111\n",
        " 8 = 0000000000001000\n",
        " 9 = 0000000000001001\n",
        "10 = 0000000000001010\n",
        "11 = 0000000000001011\n",
        "12 = 0000000000001100\n",
        "\"\"\"\n",
        "\n"
      ],
      "metadata": {
        "colab": {
          "base_uri": "https://localhost:8080/",
          "height": 226
        },
        "id": "WwVaStKo4egL",
        "outputId": "819d3309-d84a-4147-c915-bb70e902c90b"
      },
      "execution_count": 7,
      "outputs": [
        {
          "output_type": "stream",
          "name": "stdout",
          "text": [
            "0\n",
            "73\n",
            "96\n",
            "115\n",
            "85\n",
            "2\n"
          ]
        },
        {
          "output_type": "execute_result",
          "data": {
            "text/plain": [
              "\"\\nBitwise right shift has a lower precedence than subtraction, and we need to calculate the subtraction first.\\nThe calculation above reads 8 >> 2 = 2\\n\\nMore explanation:\\nThe >> operator moves each bit the specified number of times to the right. Empty holes at the left are filled with 0's.\\n\\nIf you move each bit 2 times to the right, 8 becomes 2:\\n 8 = 0000000000001000\\nbecomes\\n 2 = 0000000000000010\\n\\nDecimal numbers and their binary values:\\n 0 = 0000000000000000\\n 1 = 0000000000000001\\n 2 = 0000000000000010\\n 3 = 0000000000000011\\n 4 = 0000000000000100\\n 5 = 0000000000000101\\n 6 = 0000000000000110\\n 7 = 0000000000000111\\n 8 = 0000000000001000\\n 9 = 0000000000001001\\n10 = 0000000000001010\\n11 = 0000000000001011\\n12 = 0000000000001100\\n\""
            ],
            "application/vnd.google.colaboratory.intrinsic+json": {
              "type": "string"
            }
          },
          "metadata": {},
          "execution_count": 7
        }
      ]
    },
    {
      "cell_type": "code",
      "source": [
        "# &\tBitwise AND\n",
        "print(6 & 2 + 1)\n",
        "\n",
        "\"\"\"\n",
        "Bitwise AND has a lower precedence than addition, and we need to calculate the addition first.\n",
        "The calculation above reads 6 & 3 = 2\n",
        "\n",
        "More explanation:\n",
        "The & operator compares each bit and set it to 1 if both are 1, otherwise it is set to 0:\n",
        "\n",
        "6 = 0000000000000110\n",
        "3 = 0000000000000011\n",
        "--------------------\n",
        "2 = 0000000000000010\n",
        "====================\n",
        "\n",
        "Decimal numbers and their binary values:\n",
        "0 = 0000000000000000\n",
        "1 = 0000000000000001\n",
        "2 = 0000000000000010\n",
        "3 = 0000000000000011\n",
        "4 = 0000000000000100\n",
        "5 = 0000000000000101\n",
        "6 = 0000000000000110\n",
        "7 = 0000000000000111\n",
        "\"\"\"\n",
        "# ^\tBitwise XOR\n",
        "print(6 ^ 2 + 1)\n",
        "\n",
        "\"\"\"\n",
        "Bitwise XOR has a lower precedence than addition, and we need to calculate the addition first.\n",
        "The calculation above reads 6 ^ 3 = 5\n",
        "\n",
        "More explanation:\n",
        "The ^ operator compares each bit and set it to 1 if only one is 1, otherwise (if both are 1 or both are 0) it is set to 0:\n",
        "\n",
        "6 = 0000000000000110\n",
        "3 = 0000000000000011\n",
        "--------------------\n",
        "5 = 0000000000000101\n",
        "====================\n",
        "\n",
        "Decimal numbers and their binary values:\n",
        "0 = 0000000000000000\n",
        "1 = 0000000000000001\n",
        "2 = 0000000000000010\n",
        "3 = 0000000000000011\n",
        "4 = 0000000000000100\n",
        "5 = 0000000000000101\n",
        "6 = 0000000000000110\n",
        "7 = 0000000000000111\n",
        "\"\"\"\n",
        "# |\tBitwise OR\n",
        "print(6 | 2 + 1)\n",
        "\n",
        "\"\"\"\n",
        "Bitwise OR has a lower precedence than addition, and we need to calculate the addition first.\n",
        "The calculation above reads 6 | 3 = 7\n",
        "\n",
        "More explanation:\n",
        "The | operator compares each bit and set it to 1 if one or both is 1, otherwise it is set to 0:\n",
        "\n",
        "6 = 0000000000000110\n",
        "3 = 0000000000000011\n",
        "--------------------\n",
        "7 = 0000000000000111\n",
        "====================\n",
        "\n",
        "Decimal numbers and their binary values:\n",
        "0 = 0000000000000000\n",
        "1 = 0000000000000001\n",
        "2 = 0000000000000010\n",
        "3 = 0000000000000011\n",
        "4 = 0000000000000100\n",
        "5 = 0000000000000101\n",
        "6 = 0000000000000110\n",
        "7 = 0000000000000111\n",
        "\"\"\"\n",
        "# ==  !=  >  >=  <  <=  is  is not  in  not in \tComparisons, identity, and membership operators\n",
        "print(5 == 4 + 1)\n",
        "\n",
        "\"\"\"\n",
        "The \"like\" comparison has a lower precedence than addition, and we need to calculate the addition first.\n",
        "The calculation above reads 5 == 5 = True\n",
        "\"\"\"\n",
        "# not\tLogical NOT\n",
        "print(not 5 == 5)\n",
        "\n",
        "\"\"\"\n",
        "The logical NOT operator has a lower precedence than \"like\" comparison, and we need to calculate the comparison first.\n",
        "The calculation above reads: not True = False\n",
        "\"\"\"\n",
        "\n",
        "# and\tAND\n",
        "print(1 or 2 and 3)\n",
        "\n",
        "\"\"\"\n",
        "The and operator has a higher precedence than or, and we need to calculate the and expression first.\n",
        "The calculation above reads: 1 or 3 = 1\n",
        "\"\"\"\n",
        "# or\tOR\n",
        "print(4 or 5 + 10 or 8)\n",
        "\n",
        "\"\"\"\n",
        "The or operator has a lower precedence than addition, and we need to calculate the addition first.\n",
        "The calculation above reads: 4 or 15 or 8 = 4\n",
        "\"\"\""
      ],
      "metadata": {
        "colab": {
          "base_uri": "https://localhost:8080/",
          "height": 174
        },
        "id": "kyjrNjzu6VRX",
        "outputId": "aca40785-a5c5-452c-e7a1-360ce03a3217"
      },
      "execution_count": 8,
      "outputs": [
        {
          "output_type": "stream",
          "name": "stdout",
          "text": [
            "2\n",
            "5\n",
            "7\n",
            "True\n",
            "False\n",
            "1\n",
            "4\n"
          ]
        },
        {
          "output_type": "execute_result",
          "data": {
            "text/plain": [
              "'\\nThe or operator has a lower precedence than addition, and we need to calculate the addition first.\\nThe calculation above reads: 4 or 15 or 8 = 4\\n'"
            ],
            "application/vnd.google.colaboratory.intrinsic+json": {
              "type": "string"
            }
          },
          "metadata": {},
          "execution_count": 8
        }
      ]
    },
    {
      "cell_type": "markdown",
      "source": [
        "If two operators have the same precedence, the expression is evaluated from left to right.\n",
        "\n",
        "Addition + and subtraction - has the same precedence, and therefor we evaluate the expression from left to right:"
      ],
      "metadata": {
        "id": "jEBKBgJS7r1g"
      }
    },
    {
      "cell_type": "code",
      "source": [
        "print(5 + 4 - 7 + 3)\n",
        "\n",
        "\"\"\"\n",
        "Additions and subtractions have the same precedence, and we need to calculate from left to right.\n",
        "The calculation above reads:\n",
        "5 + 4 = 9\n",
        "9 - 7 = 2\n",
        "2 + 3 = 5\n",
        "\"\"\"\n"
      ],
      "metadata": {
        "colab": {
          "base_uri": "https://localhost:8080/",
          "height": 70
        },
        "id": "b594n0Zc7x7e",
        "outputId": "f6f65a0d-ea1a-4b93-879b-9261d2cd3510"
      },
      "execution_count": 9,
      "outputs": [
        {
          "output_type": "stream",
          "name": "stdout",
          "text": [
            "5\n"
          ]
        },
        {
          "output_type": "execute_result",
          "data": {
            "text/plain": [
              "'\\nAdditions and subtractions have the same precedence, and we need to calculate from left to right.\\nThe calculation above reads:\\n5 + 4 = 9\\n9 - 7 = 2\\n2 + 3 = 5\\n'"
            ],
            "application/vnd.google.colaboratory.intrinsic+json": {
              "type": "string"
            }
          },
          "metadata": {},
          "execution_count": 9
        }
      ]
    }
  ]
}