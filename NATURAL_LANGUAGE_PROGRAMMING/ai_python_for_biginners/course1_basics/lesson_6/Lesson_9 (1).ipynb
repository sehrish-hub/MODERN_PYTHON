{
  "cells": [
    {
      "cell_type": "markdown",
      "id": "817221c9",
      "metadata": {
        "id": "817221c9"
      },
      "source": [
        "# L9: Building LLM prompts with variables"
      ]
    },
    {
      "cell_type": "markdown",
      "id": "36029c06",
      "metadata": {
        "id": "36029c06"
      },
      "source": [
        "In the next cell, you will import the function `print_llm_response` that uses an LLM with an instruction that you provide as a string and displays the result."
      ]
    },
    {
      "cell_type": "markdown",
      "id": "Y-ATE80jhRkX",
      "metadata": {
        "id": "Y-ATE80jhRkX"
      },
      "source": [
        "### Download helper_function.py\n",
        "* pls set Secrets Variable for Gemini in Collab\n",
        "* `GEMINI_API_KEY`\n",
        "\n",
        "[Get API KEY From Google AI Studio](https://aistudio.google.com/app/apikey)"
      ]
    },
    {
      "cell_type": "code",
      "execution_count": 32,
      "id": "XKKbMtxtg693",
      "metadata": {
        "colab": {
          "base_uri": "https://localhost:8080/"
        },
        "id": "XKKbMtxtg693",
        "outputId": "e7428d2d-38f0-426e-9693-63a47699d9b1"
      },
      "outputs": [
        {
          "output_type": "stream",
          "name": "stdout",
          "text": [
            "  % Total    % Received % Xferd  Average Speed   Time    Time     Time  Current\n",
            "                                 Dload  Upload   Total   Spent    Left  Speed\n",
            "100  3944  100  3944    0     0  17972      0 --:--:-- --:--:-- --:--:-- 18091\n"
          ]
        }
      ],
      "source": [
        "!curl -o helper_functions.py https://raw.githubusercontent.com/panaversity/learn-cloud-native-modern-ai-python/main/04_natural_language_programming/02_ai_python_for_beginners/course1_basics/Lesson_9/helper_functions.py"
      ]
    },
    {
      "cell_type": "code",
      "execution_count": 2,
      "id": "cc237f34",
      "metadata": {
        "id": "cc237f34"
      },
      "outputs": [],
      "source": [
        "from helper_functions import print_llm_response"
      ]
    },
    {
      "cell_type": "code",
      "source": [],
      "metadata": {
        "id": "ezGGHuVNvrgz"
      },
      "id": "ezGGHuVNvrgz",
      "execution_count": null,
      "outputs": []
    },
    {
      "cell_type": "markdown",
      "id": "3074c1f9",
      "metadata": {
        "id": "3074c1f9"
      },
      "source": [
        "Basically, you can use that function as if you were asking a chatbot. You just need to provide your instructions as a string. For instance, you can ask \"What is the capital of France?\" using the following code:"
      ]
    },
    {
      "cell_type": "code",
      "execution_count": 3,
      "id": "afcf6686",
      "metadata": {
        "colab": {
          "base_uri": "https://localhost:8080/",
          "height": 52
        },
        "id": "afcf6686",
        "outputId": "4773de2e-b43c-4a71-a3bc-58bc51625c59"
      },
      "outputs": [
        {
          "output_type": "stream",
          "name": "stdout",
          "text": [
            "The capital of France is **Paris**. \n",
            "\n"
          ]
        }
      ],
      "source": [
        "print_llm_response(\"What is the capital of France?\")"
      ]
    },
    {
      "cell_type": "code",
      "source": [
        "print_llm_response(\"how are you?\")"
      ],
      "metadata": {
        "colab": {
          "base_uri": "https://localhost:8080/",
          "height": 72
        },
        "id": "3cBjnachxwYS",
        "outputId": "398eb78f-8a49-4d4c-d67a-62b0d5317dec"
      },
      "id": "3cBjnachxwYS",
      "execution_count": 6,
      "outputs": [
        {
          "output_type": "stream",
          "name": "stdout",
          "text": [
            "As an AI, I don't have feelings or experiences like humans do. So, I don't feel \"good\" or \"bad\" in the way you might. But I'm here and ready to assist you! What can I help you with today? \n",
            "\n"
          ]
        }
      ]
    },
    {
      "cell_type": "code",
      "source": [
        "print_llm_response(\"what are variables in python?\")"
      ],
      "metadata": {
        "colab": {
          "base_uri": "https://localhost:8080/",
          "height": 833
        },
        "id": "2-x03S1A1KiO",
        "outputId": "03d70db9-f6b2-4dd8-ad9c-b7dc367ec23e"
      },
      "id": "2-x03S1A1KiO",
      "execution_count": 9,
      "outputs": [
        {
          "output_type": "stream",
          "name": "stdout",
          "text": [
            "In Python, variables are like containers that store data. Think of them like labeled boxes where you can put different things inside.\n",
            "\n",
            "**Here's a breakdown:**\n",
            "\n",
            "* **Declaration:** You don't need to explicitly declare the type of data a variable will hold. Python figures it out automatically.\n",
            "* **Assignment:**  Use the assignment operator `=` to give a variable a value.\n",
            "* **Data Types:** Variables can hold various data types, such as:\n",
            "    * **Numbers:** Integers (e.g., 10), Floats (e.g., 3.14), Complex numbers.\n",
            "    * **Strings:** Text enclosed in single or double quotes (e.g., 'Hello', \"World\").\n",
            "    * **Booleans:** True or False.\n",
            "    * **Lists:** Ordered collections of items (e.g., [1, 2, 3]).\n",
            "    * **Tuples:** Immutable (unchangeable) ordered collections (e.g., (1, 2, 3)).\n",
            "    * **Dictionaries:** Key-value pairs (e.g., {'name': 'Alice', 'age': 30}).\n",
            "\n",
            "**Example:**\n",
            "\n",
            "```python\n",
            "# Assign an integer value\n",
            "age = 25\n",
            "\n",
            "# Assign a string value\n",
            "name = \"John\"\n",
            "\n",
            "# Assign a list\n",
            "shopping_list = [\"milk\", \"bread\", \"eggs\"]\n",
            "\n",
            "# Print the values\n",
            "print(age)  # Output: 25\n",
            "print(name)  # Output: John\n",
            "print(shopping_list)  # Output: ['milk', 'bread', 'eggs']\n",
            "```\n",
            "\n",
            "**Key Points:**\n",
            "\n",
            "* **Dynamic Typing:** Python determines the data type automatically based on the value assigned.\n",
            "* **Case-Sensitive:** Variable names are case-sensitive (e.g., `age` and `Age` are different).\n",
            "* **Meaningful Names:** Choose descriptive names that reflect the variable's purpose.\n",
            "* **Reassignment:** You can reassign a variable to a new value at any time.\n",
            "\n",
            "**Variable Names:**\n",
            "\n",
            "* Must start with a letter or underscore (`_`).\n",
            "* Can contain letters, numbers, and underscores.\n",
            "* Cannot be a reserved keyword (e.g., `if`, `else`, `for`).\n",
            "\n",
            "Let me know if you have any more questions or want to dive deeper into specific data types or variable usage! \n",
            "\n"
          ]
        }
      ]
    },
    {
      "cell_type": "markdown",
      "id": "7e164d69",
      "metadata": {
        "id": "7e164d69"
      },
      "source": [
        "Let's ask the LLM for the lifestyle description for Otto Matic, whose name is stored in `name`, if he were a `dog_age` years old dog."
      ]
    },
    {
      "cell_type": "code",
      "source": [
        "print_llm_response(\"what are functions in python?\")"
      ],
      "metadata": {
        "colab": {
          "base_uri": "https://localhost:8080/",
          "height": 1000
        },
        "id": "W3sgehUT1is0",
        "outputId": "70172b8b-f617-4ccf-8f90-1223235b0cae"
      },
      "id": "W3sgehUT1is0",
      "execution_count": 10,
      "outputs": [
        {
          "output_type": "stream",
          "name": "stdout",
          "text": [
            "## Functions in Python: The Building Blocks of Code\n",
            "\n",
            "Functions in Python are like mini-programs within a larger program. They serve several key purposes:\n",
            "\n",
            "**1. Organization and Reusability:**\n",
            "\n",
            "- Functions allow you to break down complex tasks into smaller, manageable units.\n",
            "- You can then reuse these functions throughout your code, eliminating redundancy and making your code easier to read and maintain.\n",
            "\n",
            "**2. Modularity and Abstraction:**\n",
            "\n",
            "- Functions hide the internal details of how a task is accomplished, focusing on the desired outcome.\n",
            "- This allows you to treat functions like black boxes, interacting with them without needing to understand their inner workings.\n",
            "\n",
            "**3. Code Readability and Maintainability:**\n",
            "\n",
            "- Well-defined functions make your code more readable and easier to understand.\n",
            "- They also make it easier to modify your code without introducing errors, as changes in one function won't affect others.\n",
            "\n",
            "**4. Parameter Passing and Return Values:**\n",
            "\n",
            "- Functions can accept input values called arguments (parameters) and return a result.\n",
            "- This allows you to tailor the function's behavior to specific needs and get back the output you want.\n",
            "\n",
            "**5. Scope and Local Variables:**\n",
            "\n",
            "- Functions create their own local scope, meaning variables defined inside a function are only accessible within that function.\n",
            "- This helps prevent name conflicts and keeps your code organized.\n",
            "\n",
            "**Basic Function Structure:**\n",
            "\n",
            "```python\n",
            "def function_name(parameter1, parameter2):\n",
            "  \"\"\"Docstring explaining the function's purpose.\"\"\"\n",
            "  # Code to perform the function's task\n",
            "  return result\n",
            "```\n",
            "\n",
            "**Example:**\n",
            "\n",
            "```python\n",
            "def greet(name):\n",
            "  \"\"\"Greets the user with their name.\"\"\"\n",
            "  print(f\"Hello, {name}!\")\n",
            "\n",
            "greet(\"Alice\")  # Outputs \"Hello, Alice!\"\n",
            "```\n",
            "\n",
            "**Key Points to Remember:**\n",
            "\n",
            "- Functions are defined using the `def` keyword.\n",
            "- The `return` statement specifies the output value of the function.\n",
            "- Functions can have any number of parameters or return values.\n",
            "- Docstrings (the multi-line comment inside the function) are crucial for documenting the function's purpose.\n",
            "\n",
            "Functions are an essential part of any Python program. They provide structure, organization, and reusability, making your code more efficient, maintainable, and readable. \n",
            "\n"
          ]
        }
      ]
    },
    {
      "cell_type": "code",
      "source": [
        "print_llm_response(\"what are clasess in python?\")"
      ],
      "metadata": {
        "colab": {
          "base_uri": "https://localhost:8080/",
          "height": 1000
        },
        "id": "H6ZM_XQm2hA1",
        "outputId": "75031504-66b4-4220-a1e0-ed9ba2fb7c8b"
      },
      "id": "H6ZM_XQm2hA1",
      "execution_count": 11,
      "outputs": [
        {
          "output_type": "stream",
          "name": "stdout",
          "text": [
            "Let's break down classes in Python.\n",
            "\n",
            "**What are Classes?**\n",
            "\n",
            "* **Blueprints for Objects:** Imagine a class as a blueprint or template for creating objects. Think of it like a cookie cutter. The cookie cutter (class) defines the shape and characteristics of a cookie (object).\n",
            "* **Data and Behavior:** A class encapsulates both data (attributes) and actions (methods) that define the characteristics and behaviors of a type of object.\n",
            "\n",
            "**Key Concepts**\n",
            "\n",
            "* **Class Definition:** You create a class using the `class` keyword, followed by the class name and a colon:\n",
            "   ```python\n",
            "   class Dog:\n",
            "       pass  # Placeholder - we'll add content later\n",
            "   ```\n",
            "\n",
            "* **Attributes:**  Attributes are variables that represent the data associated with an object of that class. They are like the ingredients of a cookie (e.g., flour, sugar).\n",
            "   ```python\n",
            "   class Dog:\n",
            "       def __init__(self, name, breed):\n",
            "           self.name = name\n",
            "           self.breed = breed\n",
            "   ```\n",
            "\n",
            "   * `__init__` is a special method called the \"constructor\". It's automatically invoked when you create a new instance of the class.\n",
            "   * `self` refers to the instance of the class itself (the specific dog object).\n",
            "   * `name` and `breed` are attributes, holding data about the dog.\n",
            "\n",
            "* **Methods:**  Methods are functions defined within a class. They define the actions that an object of the class can perform. They are like the steps involved in baking a cookie (e.g., mixing, baking).\n",
            "   ```python\n",
            "   class Dog:\n",
            "       def __init__(self, name, breed):\n",
            "           self.name = name\n",
            "           self.breed = breed\n",
            "\n",
            "       def bark(self):\n",
            "           print(f\"{self.name} barks!\") \n",
            "   ```\n",
            "   * `bark` is a method that allows a dog object to \"bark\".\n",
            "\n",
            "**Example: Creating and Using Dog Objects**\n",
            "\n",
            "```python\n",
            "class Dog:\n",
            "    def __init__(self, name, breed):\n",
            "        self.name = name\n",
            "        self.breed = breed\n",
            "\n",
            "    def bark(self):\n",
            "        print(f\"{self.name} barks!\")\n",
            "\n",
            "# Create instances of the Dog class\n",
            "my_dog = Dog(\"Buddy\", \"Golden Retriever\")\n",
            "your_dog = Dog(\"Max\", \"Labrador\")\n",
            "\n",
            "# Access attributes and call methods\n",
            "print(my_dog.name)  # Output: Buddy\n",
            "my_dog.bark()      # Output: Buddy barks!\n",
            "```\n",
            "\n",
            "**Why Use Classes?**\n",
            "\n",
            "* **Organization:** Classes promote code organization by grouping related data and actions.\n",
            "* **Reusability:** You can create multiple objects from a single class, saving you from rewriting code.\n",
            "* **Abstraction:** Classes hide complex implementation details, making your code easier to understand and maintain.\n",
            "* **Inheritance:** You can create new classes that inherit properties and methods from existing classes, promoting code reuse and extensibility.\n",
            "\n",
            "Let me know if you'd like to explore more advanced class concepts like inheritance, polymorphism, or other aspects of object-oriented programming in Python! \n",
            "\n"
          ]
        }
      ]
    },
    {
      "cell_type": "code",
      "source": [
        "print_llm_response(\"what are f strings in python?\")"
      ],
      "metadata": {
        "colab": {
          "base_uri": "https://localhost:8080/",
          "height": 1000
        },
        "id": "h2L-7x7R3Pwc",
        "outputId": "fd94bff3-e50b-481f-b7d2-58e7330c8576"
      },
      "id": "h2L-7x7R3Pwc",
      "execution_count": 12,
      "outputs": [
        {
          "output_type": "stream",
          "name": "stdout",
          "text": [
            "## f-strings in Python: A Powerful Way to Format Strings\n",
            "\n",
            "**f-strings**, also known as **formatted string literals**, are a powerful feature introduced in Python 3.6 that simplifies the process of embedding variables and expressions directly within string literals. They offer a clean and efficient way to format strings, making your code more readable and concise.\n",
            "\n",
            "**Here's how they work:**\n",
            "\n",
            "1. **Prefix the string with 'f' or 'F':** This indicates that you're using an f-string.\n",
            "2. **Embed variables and expressions within curly braces `{}`:**  The values of these variables or the results of the expressions will be directly inserted into the string.\n",
            "\n",
            "**Example:**\n",
            "\n",
            "```python\n",
            "name = \"Alice\"\n",
            "age = 30\n",
            "\n",
            "# Using f-string\n",
            "greeting = f\"Hello, my name is {name} and I am {age} years old.\"\n",
            "\n",
            "print(greeting)\n",
            "# Output: Hello, my name is Alice and I am 30 years old. \n",
            "```\n",
            "\n",
            "**Why use f-strings?**\n",
            "\n",
            "* **Readability:** They offer a more intuitive syntax compared to older formatting methods.\n",
            "* **Conciseness:** They eliminate the need for separate formatting operations.\n",
            "* **Efficiency:** f-strings are generally faster than other string formatting methods.\n",
            "* **Flexibility:** You can directly embed expressions, functions, and even objects (if they have a `__str__` method).\n",
            "\n",
            "**Beyond Simple Substitution:**\n",
            "\n",
            "f-strings support advanced formatting options:\n",
            "\n",
            "* **Formatting Specifiers:**  You can use format specifiers within the curly braces to control the output format.\n",
            "* **Alignment and Width:**  Control alignment and padding using `<`, `>`, and `^`.\n",
            "* **Precision:** Specify the number of decimal places for floating-point numbers.\n",
            "* **Conversion:**  Apply conversions like `!r` (representation) and `!a` (ASCII).\n",
            "\n",
            "**Example with Formatting Specifiers:**\n",
            "\n",
            "```python\n",
            "price = 19.99\n",
            "\n",
            "# Formatting with precision\n",
            "formatted_price = f\"The price is ${price:.2f}\"\n",
            "\n",
            "print(formatted_price)\n",
            "# Output: The price is $19.99 \n",
            "```\n",
            "\n",
            "**Key Takeaways:**\n",
            "\n",
            "* f-strings are a modern and efficient way to format strings in Python.\n",
            "* They offer clear syntax, flexibility, and improved readability.\n",
            "* Embrace f-strings to write cleaner and more maintainable code.\n",
            "\n",
            "**Let me know if you'd like to explore any specific formatting options or have further questions about f-strings!** \n",
            "\n"
          ]
        }
      ]
    },
    {
      "cell_type": "code",
      "execution_count": 13,
      "id": "196644ca",
      "metadata": {
        "id": "196644ca"
      },
      "outputs": [],
      "source": [
        "name : str = \"Otto Matic\"\n",
        "dog_age : float  = 21/7"
      ]
    },
    {
      "cell_type": "code",
      "execution_count": 14,
      "id": "ad18f441",
      "metadata": {
        "colab": {
          "base_uri": "https://localhost:8080/",
          "height": 367
        },
        "id": "ad18f441",
        "outputId": "18a28eba-c862-4803-f40e-d2a5d4c01f23"
      },
      "outputs": [
        {
          "output_type": "stream",
          "name": "stdout",
          "text": [
            "If Otto Matic were a dog, at 3.0 years old, he would be considered an **adult dog**. \n",
            "\n",
            "Here's what that might entail:\n",
            "\n",
            "**Energy Level:** While not as rambunctious as a puppy, adult dogs still have plenty of energy. Otto would likely be at his peak physical fitness and enjoy regular walks, playtime, and some good runs around the yard. He may also be interested in learning new tricks or participating in dog sports. \n",
            "\n",
            "**Interests:** \n",
            "* **Socialization:** Otto would be at the prime age for socializing with other dogs and people. He'd likely enjoy dog parks, playdates, and engaging with his family. \n",
            "* **Exploration:** He'd be curious about the world around him and enjoy exploring new places and smells. \n",
            "* **Training and Learning:** Otto would be capable of learning new skills and commands. He might enjoy agility training, scent work, or even learning basic obedience. \n",
            "* **Companionship:** At this age, Otto would probably be very attached to his family and enjoy snuggling up for cuddles. \n",
            "\n",
            "**Behavior:** \n",
            "* **Independent:** While still needing affection and interaction, Otto would be more independent than a puppy. He might have a set routine and enjoy some alone time.\n",
            "* **Confident:** He would be comfortable with his surroundings and social interactions. \n",
            "* **Mature:** Otto might show more patience and understanding than a younger dog. \n",
            "\n",
            "Overall, Otto at 3 years old would be a fun-loving, energetic, and independent dog. He'd be a great companion for an active family who enjoys spending time outdoors and engaging in activities. \n",
            "\n"
          ]
        }
      ],
      "source": [
        "print_llm_response(f\"\"\"If {name} were a dog, he would be {dog_age} years old.\n",
        "Describe what life stage that would be for a dog and what that might\n",
        "entail in terms of energy level, interests, and behavior.\"\"\")"
      ]
    },
    {
      "cell_type": "markdown",
      "id": "8349cb53",
      "metadata": {
        "id": "8349cb53"
      },
      "source": [
        "<b>You just used AI with your own variables!</b> You used an LLM with instructions that included variables you defined in this notebook.\n",
        "\n",
        "<b>Congratulations 🎉🎉🎉</b>"
      ]
    },
    {
      "cell_type": "markdown",
      "id": "51181411",
      "metadata": {
        "id": "51181411"
      },
      "source": [
        "## Variable names restrictions"
      ]
    },
    {
      "cell_type": "markdown",
      "id": "89d94522",
      "metadata": {
        "id": "89d94522"
      },
      "source": [
        "The following variable names also have some problems. Try to fix them yourself or use the help from the chatbot."
      ]
    },
    {
      "cell_type": "code",
      "execution_count": 16,
      "id": "af96e951",
      "metadata": {
        "id": "af96e951"
      },
      "outputs": [],
      "source": [
        "driver : str = \"unicorn\"\n",
        "drivers_vehicle : str = \"colorful, asymmetric dinosaur car\"\n",
        "favorite_planet : str = \"Pluto\"\n"
      ]
    },
    {
      "cell_type": "markdown",
      "id": "59a3a881",
      "metadata": {
        "id": "59a3a881"
      },
      "source": [
        "Now, update the next cell with any changes you made in the previous cell."
      ]
    },
    {
      "cell_type": "code",
      "execution_count": 17,
      "id": "02b7e02c",
      "metadata": {
        "colab": {
          "base_uri": "https://localhost:8080/",
          "height": 106
        },
        "id": "02b7e02c",
        "outputId": "33404a60-d29c-48a9-b8d0-f391bf1eab7a"
      },
      "outputs": [
        {
          "output_type": "error",
          "ename": "SyntaxError",
          "evalue": "f-string: unterminated string (<ipython-input-17-943a03f55416>, line 2)",
          "traceback": [
            "\u001b[0;36m  File \u001b[0;32m\"<ipython-input-17-943a03f55416>\"\u001b[0;36m, line \u001b[0;32m2\u001b[0m\n\u001b[0;31m    a {driver's vehicle} for the {favorite planet} champion cup.\"\"\")\u001b[0m\n\u001b[0m                                                                   ^\u001b[0m\n\u001b[0;31mSyntaxError\u001b[0m\u001b[0;31m:\u001b[0m f-string: unterminated string\n"
          ]
        }
      ],
      "source": [
        "print_llm_response(f\"\"\"Write me a 300 word children's story about a {driver} racing\n",
        "a {driver's vehicle} for the {favorite planet} champion cup.\"\"\")"
      ]
    },
    {
      "cell_type": "code",
      "source": [
        "print_llm_response(f\"\"\"Write me a 300 word children's story about a {driver} racing\n",
        "a {drivers_vehicle} for the {favorite_planet} champion cup.\"\"\")"
      ],
      "metadata": {
        "colab": {
          "base_uri": "https://localhost:8080/",
          "height": 315
        },
        "id": "jjIkbzg84Lq2",
        "outputId": "660de469-0854-4157-9aee-7134da578b01"
      },
      "id": "jjIkbzg84Lq2",
      "execution_count": 18,
      "outputs": [
        {
          "output_type": "stream",
          "name": "stdout",
          "text": [
            "The dusty track shimmered under the bright Plutonian sun.  Sparkles, the unicorn, pawed the ground, his silver horn glinting.  Next to him, a gleaming, lopsided car painted with every color imaginable waited, its engine purring like a sleepy kitten. This was no ordinary car, this was Rexy, the dino-mobile, driven by his friend, the fearless young Rex. \n",
            "\n",
            "\"Ready, Sparkles?\" Rex asked, his voice booming through the dinosaur car's speaker.  Sparkles snorted and pawed the ground again. \"Let's do this!\" \n",
            "\n",
            "The starting horn blared, and they were off! Sparkles, with his long, graceful strides, shot ahead, his horn glowing with a faint magic.  But Rexy, with his powerful engine, zoomed along,  his rainbow paint streaking across the track. \n",
            "\n",
            "The crowd cheered, a mix of Plutonians and earthlings, their shouts echoing across the crater-filled landscape.  \"Go Sparkles!\"  \"Go Rexy!\"\n",
            "\n",
            "The race was neck and neck. Sparkles used his magic to leap over obstacles, his horn creating a swirling blue mist.  Rexy, meanwhile, used his unique, lopsided steering to swerve around craters, his tires leaving colorful trails.\n",
            "\n",
            "They neared the finish line, the crowd going wild.  Sparkles, with a final burst of magic, crossed the finish line first.  Rexy, right behind, honked his horn in defeat, but a wide grin spread across Rex's face.\n",
            "\n",
            "“That was amazing!” Rex yelled.  \"You were incredible, Sparkles!\"\n",
            "\n",
            "Sparkles snorted, his horn glowing brightly.  They both knew, win or lose, they were the true champions of the Pluto Cup, proving that friendship and a little bit of magic could overcome any challenge. \n",
            "\n"
          ]
        }
      ]
    },
    {
      "cell_type": "markdown",
      "id": "98ec7de7",
      "metadata": {
        "id": "98ec7de7"
      },
      "source": [
        "## Extra practice\n",
        "\n",
        "Try the exercises below to practice the concepts from this lesson. Read the comments in each cell with the instructions for each exercise.\n",
        "\n",
        "<b>Feel free to use the chatbot if you need help.</b>"
      ]
    },
    {
      "cell_type": "code",
      "execution_count": 19,
      "id": "9fb2bd26",
      "metadata": {
        "colab": {
          "base_uri": "https://localhost:8080/",
          "height": 106
        },
        "id": "9fb2bd26",
        "outputId": "9dc5c76e-8428-43ec-b4c3-ff0a2d4f4de3"
      },
      "outputs": [
        {
          "output_type": "error",
          "ename": "SyntaxError",
          "evalue": "invalid decimal literal (<ipython-input-19-f0ea60fa9964>, line 2)",
          "traceback": [
            "\u001b[0;36m  File \u001b[0;32m\"<ipython-input-19-f0ea60fa9964>\"\u001b[0;36m, line \u001b[0;32m2\u001b[0m\n\u001b[0;31m    1favorite-book : str = \"1001 Ways to Wear a Hat\"\u001b[0m\n\u001b[0m    ^\u001b[0m\n\u001b[0;31mSyntaxError\u001b[0m\u001b[0;31m:\u001b[0m invalid decimal literal\n"
          ]
        }
      ],
      "source": [
        "# Fix this code\n",
        "1favorite-book : str = \"1001 Ways to Wear a Hat\"\n",
        "\"2002 Ways to Wear a Scarf\" = second_fav_book\n",
        "print(f\"My most favorite book is {1favorite-book}, but I also like {second_fav_book})"
      ]
    },
    {
      "cell_type": "code",
      "source": [
        "# Fix this code\n",
        "favorite_book : str = \"1001 Ways to Wear a Hat\"\n",
        "second_fav_book = \"2002 Ways to Wear a Scarf\"\n",
        "print(f\"My most favorite book is {favorite_book}, but I also like {second_fav_book}\")"
      ],
      "metadata": {
        "colab": {
          "base_uri": "https://localhost:8080/"
        },
        "id": "1Ok3KSB043v-",
        "outputId": "1c09aaa9-2854-42ec-9d90-4e75537611ee"
      },
      "id": "1Ok3KSB043v-",
      "execution_count": 28,
      "outputs": [
        {
          "output_type": "stream",
          "name": "stdout",
          "text": [
            "My most favorite book is 1001 Ways to Wear a Hat, but I also like 2002 Ways to Wear a Scarf\n"
          ]
        }
      ]
    },
    {
      "cell_type": "code",
      "execution_count": 30,
      "id": "407023e6",
      "metadata": {
        "colab": {
          "base_uri": "https://localhost:8080/",
          "height": 401
        },
        "id": "407023e6",
        "outputId": "4b1234f9-e0d9-4181-af61-94a549d907bb"
      },
      "outputs": [
        {
          "output_type": "stream",
          "name": "stdout",
          "text": [
            "Based on your interests, here are a few songs that might catch your ear:\n",
            "\n",
            "**If you like the high-energy action of the Avengers:**\n",
            "\n",
            "* **\"The Chain\" by Fleetwood Mac:**  This song has a powerful and driving beat that evokes the epic battles of the Avengers. It's a classic rock anthem with a big sound.\n",
            "* **\"Portals\" by Alan Silvestri:** This is the main theme from the Avengers movies, a soaring and heroic piece of music.  It captures the spirit of teamwork and heroism perfectly.\n",
            "\n",
            "**If you enjoy the whimsical and adventurous world of Pokemon:**\n",
            "\n",
            "* **\"Mr. Blue Sky\" by Electric Light Orchestra:** This is a super upbeat and positive song with a catchy melody, reminiscent of the bright and colorful world of Pokemon.  \n",
            "* **\"Walking on Sunshine\" by Katrina & The Waves:** Another super uplifting and fun song that captures the adventurous spirit of Pokemon. \n",
            "\n",
            "**If you love a good pizza party:**\n",
            "\n",
            "* **\"Pizza\" by The Backseat Lovers:** This song is a fun, easygoing ode to pizza. It's perfect for relaxing and enjoying a slice with friends. \n",
            "* **\"Livin' on a Prayer\" by Bon Jovi:** This is a classic rock anthem that evokes the joy of sharing a meal with loved ones. It's a great song to sing along to while enjoying a pizza with friends. \n",
            "\n",
            "These are just a few suggestions, and there are many other great songs out there that you might enjoy! I encourage you to explore different genres and artists to find your new favorites.  \n",
            "\n",
            "**Do you have any other interests or preferences?** Knowing more about what you like can help me give you even better recommendations. \n",
            "\n"
          ]
        }
      ],
      "source": [
        "# Make variables for your favorite game, movie, and food.\n",
        "# Then use print_llm_response to ask the LLM to recommend you\n",
        "# a new song to listen to based on your likes.\n",
        "favorite_game=\"pokemon\"\n",
        "favorite_movie=\"avengers\"\n",
        "favorite_food=\"pizza\"\n",
        "print_llm_response(f\"\"\"my favorite game is{favorite_game}, favorite movie is{favorite_movie}, favorite food is{favorite_food}\n",
        "recommend me a new song to listen to based on my likes\n",
        "\n",
        "\"\"\")"
      ]
    },
    {
      "cell_type": "code",
      "execution_count": 31,
      "id": "fr-mvndppVGH",
      "metadata": {
        "id": "fr-mvndppVGH",
        "colab": {
          "base_uri": "https://localhost:8080/",
          "height": 401
        },
        "outputId": "19981071-e080-40ba-d350-fc8a10558bc7"
      },
      "outputs": [
        {
          "output_type": "stream",
          "name": "stdout",
          "text": [
            "Based on your preferences, here are a few song recommendations that might resonate with you:\n",
            "\n",
            "**For the Breath of the Wild vibe:**\n",
            "\n",
            "* **\"The Legend of Zelda: Breath of the Wild - Main Theme\"** (Original Soundtrack) - A classic and timeless choice, capturing the game's epic and adventurous spirit.\n",
            "* **\"The Last of Us Part II - Theme Song\"** - This track has a similar sense of wonder and exploration, with a bit more melancholic undertone, echoing Breath of the Wild's emotional depth.\n",
            "* **\"A Sky Full of Stars\" by Coldplay** - An uplifting and anthemic track that evokes a sense of vastness and possibility, just like exploring Hyrule.\n",
            "\n",
            "**For the Spirited Away vibe:**\n",
            "\n",
            "* **\"Always with Me\" by Joe Hisaishi** (from Spirited Away) - This beautiful and haunting melody perfectly captures the film's magical atmosphere and emotional journey.\n",
            "* **\"The Rain\" by The Cinematic Orchestra** - This track evokes a similar sense of mystery and melancholic beauty, with its ethereal and atmospheric soundscapes.\n",
            "* **\"Clair de Lune\" by Claude Debussy** - A classical masterpiece known for its delicate and dreamy sounds, mirroring the whimsical and fantastical world of Spirited Away.\n",
            "\n",
            "**For the Sushi vibe:**\n",
            "\n",
            "* **\"Tokyo (Vampires & Wolves)\" by The Wombats** - This upbeat and playful track has a quirky and energetic vibe, reminiscent of the vibrant and flavorful nature of sushi.\n",
            "* **\"Sushi\" by The Avalanches** - A quirky and eclectic track featuring samples of Japanese music and sounds, capturing the unique and diverse aspects of sushi cuisine.\n",
            "* **\"Kyoto\" by Phoebe Bridgers** - This track is more mellow and contemplative, but its poetic lyrics and understated beauty evoke a sense of tranquility and appreciation, just like savoring a delicious piece of sushi.\n",
            "\n",
            "Ultimately, the best song for you will depend on your specific taste and mood. I encourage you to explore these options and discover new musical worlds that connect with your existing favorites. Happy listening!\n"
          ]
        }
      ],
      "source": [
        "# prompt: # Make variables for your favorite game, movie, and food.\n",
        "# # Then use print_llm_response to ask the LLM to recommend you\n",
        "# # a new song to listen to based on your likes.\n",
        "\n",
        "favorite_game = \"The Legend of Zelda: Breath of the Wild\"  #@param {type:\"string\"}\n",
        "favorite_movie = \"Spirited Away\"  #@param {type:\"string\"}\n",
        "favorite_food = \"Sushi\"  #@param {type:\"string\"}\n",
        "\n",
        "print_llm_response(f\"\"\"\n",
        "My favorite game is {favorite_game}, my favorite movie is {favorite_movie}, and my favorite food is {favorite_food}.\n",
        "Recommend me a new song to listen to based on my likes.\n",
        "\"\"\")\n"
      ]
    }
  ],
  "metadata": {
    "colab": {
      "provenance": []
    },
    "kernelspec": {
      "display_name": "Python 3 (ipykernel)",
      "language": "python",
      "name": "python3"
    },
    "language_info": {
      "codemirror_mode": {
        "name": "ipython",
        "version": 3
      },
      "file_extension": ".py",
      "mimetype": "text/x-python",
      "name": "python",
      "nbconvert_exporter": "python",
      "pygments_lexer": "ipython3",
      "version": "3.9.19"
    }
  },
  "nbformat": 4,
  "nbformat_minor": 5
}