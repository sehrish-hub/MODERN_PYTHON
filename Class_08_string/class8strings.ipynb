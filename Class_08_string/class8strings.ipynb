{
  "nbformat": 4,
  "nbformat_minor": 0,
  "metadata": {
    "colab": {
      "provenance": [],
      "gpuType": "T4"
    },
    "kernelspec": {
      "name": "python3",
      "display_name": "Python 3"
    },
    "language_info": {
      "name": "python"
    },
    "accelerator": "GPU"
  },
  "cells": [
    {
      "cell_type": "code",
      "source": [
        "name_str = \"sehrish\"\n",
        "print(name_str)\n",
        "print(type(name_str))\n",
        "print(id(name_str))\n",
        "\n",
        "\n",
        "name1_str = \"sehr\"\n",
        "print(name1_str)\n",
        "print(type(name1_str))\n",
        "print(id(name1_str))\n",
        "\n",
        "\n",
        "name_str = \"huma\"\n",
        "print(name_str)\n",
        "print( type(name_str) )\n",
        "print( id(name_str) )\n",
        "\n",
        "\n",
        "name1_str = \"huma\"\n",
        "print(name1_str)\n",
        "print( type(name1_str) )\n",
        "print( id(name1_str) )"
      ],
      "metadata": {
        "colab": {
          "base_uri": "https://localhost:8080/"
        },
        "id": "mI9GVgImN6bm",
        "outputId": "1f6ed245-df90-462b-ba1a-acfa56329f1f"
      },
      "execution_count": null,
      "outputs": [
        {
          "output_type": "stream",
          "name": "stdout",
          "text": [
            "sehrish\n",
            "<class 'str'>\n",
            "139509912663152\n",
            "sehr\n",
            "<class 'str'>\n",
            "139509912653168\n",
            "huma\n",
            "<class 'str'>\n",
            "139509912706160\n",
            "huma\n",
            "<class 'str'>\n",
            "139509912706160\n"
          ]
        }
      ]
    },
    {
      "cell_type": "code",
      "source": [
        "name_str = \"sehrish\"\n",
        "age:int = 25\n",
        "print(name_str)\n",
        "print(type(name_str))\n",
        "print(age)\n",
        "print(id(name_str))\n",
        "print(id(age))\n",
        "\n",
        "name1_str = \"sehr\"\n",
        "age1:int = 34\n",
        "print(name1_str)\n",
        "print(type(name1_str))\n",
        "print(age1)\n",
        "print(id(name1_str))\n",
        "print(id(age1))\n"
      ],
      "metadata": {
        "colab": {
          "base_uri": "https://localhost:8080/"
        },
        "id": "TLLgO5OwWIPx",
        "outputId": "18805c93-99fe-4002-b27f-f1593183aebc"
      },
      "execution_count": null,
      "outputs": [
        {
          "output_type": "stream",
          "name": "stdout",
          "text": [
            "sehrish\n",
            "<class 'str'>\n",
            "25\n",
            "139509912670960\n",
            "139510960178160\n",
            "sehr\n",
            "<class 'str'>\n",
            "34\n",
            "139509912672944\n",
            "139510960178448\n"
          ]
        }
      ]
    },
    {
      "cell_type": "code",
      "source": [
        "age1:int=1\n",
        "age2:int=3\n",
        "print(id(age1))\n",
        "print(id(age2))\n",
        "age1:int=1\n",
        "age2:int=1\n",
        "print(id(age1))\n",
        "print(id(age2))"
      ],
      "metadata": {
        "id": "NOvPcdG-XnOW",
        "colab": {
          "base_uri": "https://localhost:8080/"
        },
        "outputId": "e668127b-3311-4f02-9149-775af974105a"
      },
      "execution_count": 78,
      "outputs": [
        {
          "output_type": "stream",
          "name": "stdout",
          "text": [
            "139510960177392\n",
            "139510960177456\n",
            "139510960177392\n",
            "139510960177392\n"
          ]
        }
      ]
    },
    {
      "cell_type": "code",
      "source": [
        "data_str=\"hello, dear?\"\n",
        "print(data_str)\n",
        "print(type(data_str))\n",
        "print(id(data_str))"
      ],
      "metadata": {
        "colab": {
          "base_uri": "https://localhost:8080/"
        },
        "id": "qL3KluMNYnqp",
        "outputId": "1163e3e8-5857-4f8f-9792-89e6f1aaf8d8"
      },
      "execution_count": 83,
      "outputs": [
        {
          "output_type": "stream",
          "name": "stdout",
          "text": [
            "hello, dear?\n",
            "<class 'str'>\n",
            "139509912809712\n"
          ]
        }
      ]
    },
    {
      "cell_type": "code",
      "source": [
        "data:str='\"hello,\" dear?'\n",
        "print(data)\n",
        "print(type(data))\n",
        "print(id(data))"
      ],
      "metadata": {
        "colab": {
          "base_uri": "https://localhost:8080/"
        },
        "id": "GczfjcVPZz8o",
        "outputId": "458ac5fd-7134-4aa6-f6ae-2cca987f9f4c"
      },
      "execution_count": 86,
      "outputs": [
        {
          "output_type": "stream",
          "name": "stdout",
          "text": [
            "\"hello,\" dear?\n",
            "<class 'str'>\n",
            "139509912880176\n"
          ]
        }
      ]
    },
    {
      "cell_type": "code",
      "source": [
        "data:str='hello,\\' dear?'\n",
        "print(data)\n",
        "print(type(data))\n",
        "print(id(data))\n"
      ],
      "metadata": {
        "colab": {
          "base_uri": "https://localhost:8080/"
        },
        "id": "OEHuw7qbbAuM",
        "outputId": "0c117061-c9a7-4807-a38c-9c86a0f3b516"
      },
      "execution_count": 87,
      "outputs": [
        {
          "output_type": "stream",
          "name": "stdout",
          "text": [
            "hello,' dear?\n",
            "<class 'str'>\n",
            "139509912880816\n"
          ]
        }
      ]
    },
    {
      "cell_type": "code",
      "source": [
        "data_str= \"hi! how are you?\\nthis is piaic quarter 1\"\n",
        "print(data_str)"
      ],
      "metadata": {
        "colab": {
          "base_uri": "https://localhost:8080/"
        },
        "id": "4XsyxqBdbfgb",
        "outputId": "6a8f54e6-afad-4f77-b73d-0ca49b221dd9"
      },
      "execution_count": 96,
      "outputs": [
        {
          "output_type": "stream",
          "name": "stdout",
          "text": [
            "hi! how are you?\n",
            "this is piaic quarter 1\n"
          ]
        }
      ]
    },
    {
      "cell_type": "code",
      "source": [
        "data = \"hello dear, \\t this is quarter one \\\n",
        "\\n of piaic\"\n",
        "print(data)"
      ],
      "metadata": {
        "colab": {
          "base_uri": "https://localhost:8080/"
        },
        "id": "uMfhq5CudDis",
        "outputId": "4cae8d52-82d2-4890-ea46-607b0c8d9218"
      },
      "execution_count": 104,
      "outputs": [
        {
          "output_type": "stream",
          "name": "stdout",
          "text": [
            "hello dear, \t this is quarter one \n",
            " of piaic\n"
          ]
        }
      ]
    },
    {
      "cell_type": "code",
      "source": [
        "data = \"\"\" hello,\n",
        " how are you? \\n i am fine \"\"\"\n",
        "display(data)\n"
      ],
      "metadata": {
        "colab": {
          "base_uri": "https://localhost:8080/",
          "height": 35
        },
        "id": "dvUuB1pCmxfF",
        "outputId": "050a9695-b505-4954-e6ac-f0e676d44a49"
      },
      "execution_count": 121,
      "outputs": [
        {
          "output_type": "display_data",
          "data": {
            "text/plain": [
              "' hello,\\n how are you? \\n i am fine '"
            ],
            "application/vnd.google.colaboratory.intrinsic+json": {
              "type": "string"
            }
          },
          "metadata": {}
        }
      ]
    },
    {
      "cell_type": "code",
      "source": [
        "data = \"\"\" hello,\n",
        "how are you? \\n i am fine \"\"\"\n",
        "print(data)"
      ],
      "metadata": {
        "colab": {
          "base_uri": "https://localhost:8080/"
        },
        "id": "-6NI_jkFoUsU",
        "outputId": "9bb5f981-a62d-42c3-b832-adbc4c1c3262"
      },
      "execution_count": 124,
      "outputs": [
        {
          "output_type": "stream",
          "name": "stdout",
          "text": [
            " hello,\n",
            "how are you? \n",
            " i am fine \n"
          ]
        }
      ]
    },
    {
      "cell_type": "code",
      "source": [
        "data = \"\"\" hello,\n",
        " how are you? \\n i am fine \"\"\"\n",
        "display(data)\n",
        "print(data)"
      ],
      "metadata": {
        "colab": {
          "base_uri": "https://localhost:8080/",
          "height": 87
        },
        "id": "g_qFCregonfa",
        "outputId": "63f3b71a-9530-428d-8ddd-47a269306721"
      },
      "execution_count": 126,
      "outputs": [
        {
          "output_type": "display_data",
          "data": {
            "text/plain": [
              "' hello,\\n how are you? \\n i am fine '"
            ],
            "application/vnd.google.colaboratory.intrinsic+json": {
              "type": "string"
            }
          },
          "metadata": {}
        },
        {
          "output_type": "stream",
          "name": "stdout",
          "text": [
            " hello,\n",
            " how are you? \n",
            " i am fine \n"
          ]
        }
      ]
    },
    {
      "cell_type": "code",
      "source": [
        "name : \"sehrish\"\n",
        "age = 23\n",
        "dob = \"2000-08-12\"\n",
        "message = 'hello, my name is\" + name + \"my age is\" + age + \"my dob is\" + dob'\n",
        "print(message)\n",
        "print(type(message))"
      ],
      "metadata": {
        "colab": {
          "base_uri": "https://localhost:8080/"
        },
        "id": "2M4rbd5Ao206",
        "outputId": "981adeb4-3d0d-4a07-89e0-3176f5d7fdd4"
      },
      "execution_count": 132,
      "outputs": [
        {
          "output_type": "stream",
          "name": "stdout",
          "text": [
            "hello, my name is\" + name + \"my age is\" + age + \"my dob is\" + dob\n",
            "<class 'str'>\n"
          ]
        }
      ]
    },
    {
      "cell_type": "code",
      "source": [
        "name = \"sehrish\"\n",
        "age = 23\n",
        "dob = \"2000-08-12\"\n",
        "message = 'hello, my name is + name # +  and i am   # + str(age) +  years old'\n",
        "print(message)\n",
        "print(type(message))"
      ],
      "metadata": {
        "colab": {
          "base_uri": "https://localhost:8080/"
        },
        "id": "NQ2U_7uztqG1",
        "outputId": "95628b40-acdf-4aa4-8a73-514b4a04f633"
      },
      "execution_count": 3,
      "outputs": [
        {
          "output_type": "stream",
          "name": "stdout",
          "text": [
            "hello, my name is + name # +  and i am   # + str(age) +  years old\n",
            "<class 'str'>\n"
          ]
        }
      ]
    },
    {
      "cell_type": "code",
      "source": [
        "name : str = \"sehrish\"\n",
        "age : int = 23\n",
        "dob : str = \"2000-08-12\"\n",
        "message : str = \"hello, my name is %s and i am %d years old and your dob is %s\"%(name,age,dob)\n",
        "print(message)\n",
        "print(type(message))"
      ],
      "metadata": {
        "colab": {
          "base_uri": "https://localhost:8080/"
        },
        "id": "Cj7ttCG3x7IJ",
        "outputId": "c7019bf1-b9c9-4d30-f46f-1d5687a8239d"
      },
      "execution_count": 7,
      "outputs": [
        {
          "output_type": "stream",
          "name": "stdout",
          "text": [
            "hello, my name is sehrish and i am 23 years old and your dob is 2000-08-12\n",
            "<class 'str'>\n"
          ]
        }
      ]
    },
    {
      "cell_type": "code",
      "source": [
        "name : str = \"sehrish\"\n",
        "age : int = 23\n",
        "dob : str = \"2000-08-12\"\n",
        "message : str = \"hello, my name is {} and i am {} years old and your dob is {}\".format(name,age,dob) # Use the .format() method for curly brace formatting.\n",
        "print(message)\n",
        "\n",
        "print(type(message))"
      ],
      "metadata": {
        "colab": {
          "base_uri": "https://localhost:8080/"
        },
        "id": "kOEuvkXnz-Mi",
        "outputId": "36a6f292-e67a-4fa6-a2df-e2da224f1336"
      },
      "execution_count": 10,
      "outputs": [
        {
          "output_type": "stream",
          "name": "stdout",
          "text": [
            "hello, my name is sehrish and i am 23 years old and your dob is 2000-08-12\n",
            "<class 'str'>\n"
          ]
        }
      ]
    },
    {
      "cell_type": "code",
      "source": [
        "name : str = \"sehrish\"\n",
        "age : int = 23\n",
        "dob : str = \"2000-08-12\"\n",
        "\n",
        "message : str = \"hello, my name is {1} and i am {0} years old and your dob is {2}\".format(name,age,dob) # Use the .format() method for curly brace formatting.\n",
        "print(message)\n",
        "\n",
        "print(type(message))"
      ],
      "metadata": {
        "colab": {
          "base_uri": "https://localhost:8080/"
        },
        "id": "4B14NUe_1SUf",
        "outputId": "592d4087-ccdd-42c1-da90-af9f3a4b6515"
      },
      "execution_count": 12,
      "outputs": [
        {
          "output_type": "stream",
          "name": "stdout",
          "text": [
            "hello, my name is 23 and i am sehrish years old and your dob is 2000-08-12\n",
            "<class 'str'>\n"
          ]
        }
      ]
    },
    {
      "cell_type": "code",
      "source": [
        "name : str = \"sehrish\"\n",
        "age : int = 23\n",
        "dob : str = \"2000-08-12\"\n",
        "\n",
        "message : str = f\"hello, my name is {name} and i am {age} years old and my dob is {dob}\"\n",
        "print(message)\n",
        "\n",
        "print(type(message))"
      ],
      "metadata": {
        "colab": {
          "base_uri": "https://localhost:8080/"
        },
        "id": "fXAuIrw_2bVC",
        "outputId": "8622e85f-cf37-427f-895d-d705324c6407"
      },
      "execution_count": 17,
      "outputs": [
        {
          "output_type": "stream",
          "name": "stdout",
          "text": [
            "hello, my name is sehrish and i am 23 years old and my dob is 2000-08-12\n",
            "<class 'str'>\n"
          ]
        }
      ]
    },
    {
      "cell_type": "code",
      "source": [
        "name : str = \"sehrish\"\n",
        "age : int = 22\n",
        "dob : str = \"2000-08-12\"\n",
        "salary : float = 6668.998\n",
        "message : str = f\"\"\"hello, my name is {name} and\n",
        "i am {age+1} years old and\n",
        "my dob is {dob},\n",
        "my salary is {salary:.2f}\"\"\"\n",
        "print(message)\n",
        "\n",
        "print(type(message))"
      ],
      "metadata": {
        "colab": {
          "base_uri": "https://localhost:8080/"
        },
        "id": "hYwBrNNq3HbK",
        "outputId": "d41c8e62-2d71-417d-b806-1ec0ea476f66"
      },
      "execution_count": 28,
      "outputs": [
        {
          "output_type": "stream",
          "name": "stdout",
          "text": [
            "hello, my name is sehrish and \n",
            "i am 23 years old and \n",
            "my dob is 2000-08-12,\n",
            "my salary is 6669.00\n",
            "<class 'str'>\n"
          ]
        }
      ]
    }
  ]
}