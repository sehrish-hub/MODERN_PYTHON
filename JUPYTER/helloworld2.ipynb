{
  "nbformat": 4,
  "nbformat_minor": 0,
  "metadata": {
    "colab": {
      "provenance": [],
      "gpuType": "T4"
    },
    "kernelspec": {
      "name": "python3",
      "display_name": "Python 3"
    },
    "language_info": {
      "name": "python"
    },
    "accelerator": "GPU"
  },
  "cells": [
    {
      "cell_type": "code",
      "execution_count": null,
      "metadata": {
        "colab": {
          "base_uri": "https://localhost:8080/"
        },
        "id": "aN7uaHkN_RcJ",
        "outputId": "a469a775-efdb-4e98-eb90-1b24931a89e0"
      },
      "outputs": [
        {
          "output_type": "stream",
          "name": "stdout",
          "text": [
            "Hello, world!\n"
          ]
        }
      ],
      "source": [
        "# prompt: write hello world program\n",
        "\n",
        "print(\"Hello, world!\")\n"
      ]
    },
    {
      "cell_type": "code",
      "source": [
        "# prompt: print hello sehrish\n",
        "\n",
        "print(\"hello sehrish\")\n"
      ],
      "metadata": {
        "colab": {
          "base_uri": "https://localhost:8080/"
        },
        "id": "Qm5pZdyS_9KI",
        "outputId": "c7a4c303-c4a1-4a2c-804d-6368fb9515e4"
      },
      "execution_count": null,
      "outputs": [
        {
          "output_type": "stream",
          "name": "stdout",
          "text": [
            "hello sehrish\n"
          ]
        }
      ]
    },
    {
      "cell_type": "markdown",
      "source": [
        "# New section"
      ],
      "metadata": {
        "id": "Qr9C5rpQrsX8"
      }
    },
    {
      "cell_type": "code",
      "source": [
        "# prompt: say hello to my mother\n",
        "\n",
        "print(\"Hello, mother!\")\n"
      ],
      "metadata": {
        "colab": {
          "base_uri": "https://localhost:8080/"
        },
        "id": "qDbhxmsNLJbX",
        "outputId": "9e39b7ec-cb47-4e47-ba5b-79288ed87548"
      },
      "execution_count": null,
      "outputs": [
        {
          "output_type": "stream",
          "name": "stdout",
          "text": [
            "Hello, mother!\n"
          ]
        }
      ]
    },
    {
      "cell_type": "markdown",
      "source": [],
      "metadata": {
        "id": "AIt6R0iCOrog"
      }
    },
    {
      "cell_type": "code",
      "source": [
        "# prompt: write a hello world program comment in the code\n",
        "\n",
        "# This is a hello world program.\n",
        "print(\"Hello, world!\")\n",
        "\n",
        "\n",
        "print(\"hello sehrish\")\n",
        "\n",
        "\n",
        "print(\"Hello, mother!\")\n",
        "\n"
      ],
      "metadata": {
        "colab": {
          "base_uri": "https://localhost:8080/"
        },
        "id": "n9ZGcDrtOziG",
        "outputId": "b4fd9cb8-6528-4c5c-9f37-e586e30fb79f"
      },
      "execution_count": null,
      "outputs": [
        {
          "output_type": "stream",
          "name": "stdout",
          "text": [
            "Hello, world!\n",
            "hello sehrish\n",
            "Hello, mother!\n"
          ]
        }
      ]
    },
    {
      "cell_type": "code",
      "source": [
        "print(\"hy)"
      ],
      "metadata": {
        "colab": {
          "base_uri": "https://localhost:8080/",
          "height": 106
        },
        "id": "6zKLkD2NPXHa",
        "outputId": "361b50ff-93b4-4576-e8d2-39af2f430b81"
      },
      "execution_count": null,
      "outputs": [
        {
          "output_type": "error",
          "ename": "SyntaxError",
          "evalue": "unterminated string literal (detected at line 1) (<ipython-input-5-6b28c1a82e99>, line 1)",
          "traceback": [
            "\u001b[0;36m  File \u001b[0;32m\"<ipython-input-5-6b28c1a82e99>\"\u001b[0;36m, line \u001b[0;32m1\u001b[0m\n\u001b[0;31m    print(\"hy)\u001b[0m\n\u001b[0m          ^\u001b[0m\n\u001b[0;31mSyntaxError\u001b[0m\u001b[0;31m:\u001b[0m unterminated string literal (detected at line 1)\n"
          ]
        }
      ]
    },
    {
      "cell_type": "code",
      "source": [
        "# prompt: please correct the error in the previous cell\n",
        "\n",
        "print(\"Hello, world!\")\n",
        "\n",
        "print(\"hello sehrish\")\n",
        "\n",
        "print(\"Hello, mother!\")\n",
        "\n",
        "# This is a hello world program.\n",
        "print(\"Hello, world!\")\n",
        "\n",
        "print(\"hello sehrish\")\n",
        "\n",
        "print(\"Hello, mother!\")\n",
        "\n",
        "print(\"hy\")\n"
      ],
      "metadata": {
        "colab": {
          "base_uri": "https://localhost:8080/"
        },
        "id": "rLGQe8BmPfyy",
        "outputId": "baab03fe-f7c7-4f85-9e3b-0be54f9a297e"
      },
      "execution_count": null,
      "outputs": [
        {
          "output_type": "stream",
          "name": "stdout",
          "text": [
            "Hello, world!\n",
            "hello sehrish\n",
            "Hello, mother!\n",
            "Hello, world!\n",
            "hello sehrish\n",
            "Hello, mother!\n",
            "hy\n"
          ]
        }
      ]
    },
    {
      "cell_type": "code",
      "source": [
        "# prompt: write a code that display my favorite color\n",
        "\n",
        "favorite_color = \"blue\"\n",
        "print(\"My favorite color is\", favorite_color)\n"
      ],
      "metadata": {
        "colab": {
          "base_uri": "https://localhost:8080/"
        },
        "id": "qh1JaWA7Xv2H",
        "outputId": "cb928e49-e01e-407e-d795-9c686297676f"
      },
      "execution_count": null,
      "outputs": [
        {
          "output_type": "stream",
          "name": "stdout",
          "text": [
            "My favorite color is blue\n"
          ]
        }
      ]
    },
    {
      "cell_type": "code",
      "source": [
        "# prompt: write a code that answers the question, \"how are you feeling today?\"\n",
        "\n",
        "feeling = \"happy\" #@param {type:\"string\"}\n",
        "print(\"I am feeling\", feeling, \"today!\")\n"
      ],
      "metadata": {
        "colab": {
          "base_uri": "https://localhost:8080/"
        },
        "id": "N9-pWuB3ZFwA",
        "outputId": "1df24f9c-f486-4a02-9553-8bc94c0e506c"
      },
      "execution_count": null,
      "outputs": [
        {
          "output_type": "stream",
          "name": "stdout",
          "text": [
            "I am feeling happy today!\n"
          ]
        }
      ]
    },
    {
      "cell_type": "code",
      "source": [
        "# prompt: after your code from the previous cell so that it will cause an error when you run it\n",
        "\n",
        "print(\"Hello, world!\")\n",
        "\n",
        "\n",
        "print(\"hello sehrish\")\n",
        "\n",
        "\n",
        "print(\"Hello, mother!\")\n",
        "\n",
        "#\n",
        "\n",
        "# This is a hello world program.\n",
        "print(\"Hello, world!\")\n",
        "\n",
        "\n",
        "print(\"hello sehrish\")\n",
        "\n",
        "\n",
        "print(\"Hello, mother!\")\n",
        "\n",
        "\n",
        "print(\"hy)\n",
        "\n",
        "print(\"Hello, world!\")\n",
        "\n",
        "print(\"hello sehrish\")\n",
        "\n",
        "print(\"Hello, mother!\")\n",
        "\n",
        "# This is a hello world program.\n",
        "print(\"Hello, world!\")\n",
        "\n",
        "print(\"hello sehrish\")\n",
        "\n",
        "print(\"Hello, mother!\")\n",
        "\n",
        "print(\"hy\")\n",
        "\n",
        "\n",
        "favorite_color = \"blue\"\n",
        "print(\"My favorite color is\", favorite_color)\n",
        "\n",
        "\n",
        "feeling = \"great\" #@param {type:\"string\"}\n",
        "print(\"I am feeling\", feeling, \"today!\")\n",
        "\n",
        "# This line will cause an error\n",
        "print(undefined_variable)\n"
      ],
      "metadata": {
        "id": "HJuteUc4aB2v",
        "colab": {
          "base_uri": "https://localhost:8080/",
          "height": 106
        },
        "outputId": "717f12f7-9a5a-4265-a044-6ebf2a0052a7"
      },
      "execution_count": 2,
      "outputs": [
        {
          "output_type": "error",
          "ename": "SyntaxError",
          "evalue": "unterminated string literal (detected at line 23) (<ipython-input-2-99c50261a331>, line 23)",
          "traceback": [
            "\u001b[0;36m  File \u001b[0;32m\"<ipython-input-2-99c50261a331>\"\u001b[0;36m, line \u001b[0;32m23\u001b[0m\n\u001b[0;31m    print(\"hy)\u001b[0m\n\u001b[0m          ^\u001b[0m\n\u001b[0;31mSyntaxError\u001b[0m\u001b[0;31m:\u001b[0m unterminated string literal (detected at line 23)\n"
          ]
        }
      ]
    },
    {
      "cell_type": "code",
      "source": [
        "# prompt: what is my name?\n",
        "\n",
        "name = \"sehrish\" #@param {type:\"string\"}\n",
        "print(\"My name is\", name)\n"
      ],
      "metadata": {
        "colab": {
          "base_uri": "https://localhost:8080/"
        },
        "id": "FNm5gmkccEWc",
        "outputId": "6f833060-b190-4a6c-d52c-6093892206b2"
      },
      "execution_count": null,
      "outputs": [
        {
          "output_type": "stream",
          "name": "stdout",
          "text": [
            "My name is sehrish\n"
          ]
        }
      ]
    },
    {
      "cell_type": "code",
      "source": [
        "# prompt: A foot was defined as exactly 0.3048 meters in 1959. Convert 6 feet to meters.\n",
        "\n",
        "feet = 6\n",
        "meters_per_foot = 0.3048\n",
        "meters = feet * meters_per_foot\n",
        "print(meters)\n"
      ],
      "metadata": {
        "colab": {
          "base_uri": "https://localhost:8080/"
        },
        "id": "Pj1nIDlR8aL-",
        "outputId": "51e8a11d-1227-4909-8654-ea70d3e11271"
      },
      "execution_count": 1,
      "outputs": [
        {
          "output_type": "stream",
          "name": "stdout",
          "text": [
            "1.8288000000000002\n"
          ]
        }
      ]
    }
  ]
}